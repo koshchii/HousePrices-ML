{
 "cells": [
  {
   "cell_type": "markdown",
   "metadata": {},
   "source": [
    "<h2><center><font size='6'>Housing Prices Notebook</font></center></h2>\n",
    "\n",
    "Table Of Contents  \n",
    "=\n",
    "\n",
    "1. <a href='#Link-SecIntro'>Introduction</a> \n",
    "2. <a href='#Link-SecDataPrep'>Data preparation</a> \n",
    "3. <a href='#Link-SecDataExpl'>Data exploration</a> \n",
    "    - <a href='#Link-SecDataExpl-Summary'>Data summary</a>\n",
    "    - <a href='#Link-SecDataExpl-Supplem'>Supplemental lists of features</a>\n",
    "    - <a href='#Link-SecDataExpl-GenAss'>General assesment of correlations/associations</a><br><br>\n",
    "4. <a href='#Link-SecImp'>Data imputation</a>\n",
    "    - <a href='#Link-SecImp-Bsmt'>Basement-related features</a>\n",
    "    - <a href='#Link-SecImp-Gar'>Garage-related features</a>\n",
    "    - <a href='#Link-SecImp-FP'>Fireplace-, pool-, miscellaneous-, fence-, and alley-related features</a>\n",
    "    - <a href='#Link-SecImp-Others'>Rest of the features</a><br><br>\n",
    "5. <a href='#Link-SecOrdPrep'>Preparation of ordinal categorical data for label encoding</a>\n",
    "6. <a href='#Link-SecModel'>Model training, selection, and predictions</a>\n",
    "    - <a href='#Link-SecModel-DataPrepr'>Data preprocessing</a>\n",
    "    - <a href='#Link-SecModel-Training'>Model training</a><br>\n",
    "      a) <a href='#Link-SecModel-Training-LR'>Linear regression</a><br>\n",
    "      b) <a href='#Link-SecModel-Training-DTR'>Decision tree regressor</a><br>\n",
    "      c) <a href='#Link-SecModel-Training-RFR'>Random forest regressor</a><br>\n",
    "      d) <a href='#Link-SecModel-Training-XGBR'>Gradient boosting regressor</a><br>\n",
    "    - <a href='#Link-SecModel-Selection'>Model selection and predictions</a><br><br>\n",
    "7. <a href='#Link-SecSubm'>Submission</a>  \n",
    "\n",
    "# <a id='Link-SecIntro'>Introduction</a>  \n",
    "\n",
    "In this notebook we explore a housing pricing dataset using Python libraries such as `pandas`, `numpy`, `matplotlib`, `seaborn`, and `dython`. After that, we will prepare the dataset for model training, after that we will consider four different ML models using `sklearn` and `xgboost` libraries, and then assess the performance of each model using cross validation. Ultimately, we will choose the best ML model, select the best parameters for this model using `GridSearchCV`, and apply the model on the test dataset to predict the housing prices in Boston. Finally, we will prepare the predictions for a submission to the [Housing Prices Competition for Kaggle Learn Users](https://www.kaggle.com/c/home-data-for-ml-course) competition.\n",
    "\n",
    "# <a id='Link-SecDataPrep'>Data preparation</a>  "
   ]
  },
  {
   "cell_type": "code",
   "execution_count": 1,
   "metadata": {
    "execution": {
     "iopub.execute_input": "2021-07-06T14:01:03.533933Z",
     "iopub.status.busy": "2021-07-06T14:01:03.533452Z",
     "iopub.status.idle": "2021-07-06T14:01:11.491478Z",
     "shell.execute_reply": "2021-07-06T14:01:11.490047Z",
     "shell.execute_reply.started": "2021-07-06T14:01:03.533832Z"
    }
   },
   "outputs": [
    {
     "name": "stdout",
     "output_type": "stream",
     "text": [
      "Setup Complete\n"
     ]
    }
   ],
   "source": [
    "#Install/load required packages\n",
    "#!pip install dython \n",
    "import dython\n",
    "import pandas as pd\n",
    "import numpy as np\n",
    "import matplotlib.pyplot as plt\n",
    "%matplotlib inline\n",
    "import seaborn as sns\n",
    "print(\"Setup Complete\")"
   ]
  },
  {
   "cell_type": "code",
   "execution_count": 2,
   "metadata": {
    "execution": {
     "iopub.execute_input": "2021-07-06T14:01:11.494232Z",
     "iopub.status.busy": "2021-07-06T14:01:11.493897Z",
     "iopub.status.idle": "2021-07-06T14:01:11.560111Z",
     "shell.execute_reply": "2021-07-06T14:01:11.559019Z",
     "shell.execute_reply.started": "2021-07-06T14:01:11.494199Z"
    }
   },
   "outputs": [],
   "source": [
    "#Upload and record housing prices data \n",
    "train_file_path = 'train.csv'\n",
    "test_file_path = 'test.csv'\n",
    "\n",
    "train_data = pd.read_csv(train_file_path, index_col='Id')\n",
    "test_data = pd.read_csv(test_file_path, index_col='Id')"
   ]
  },
  {
   "cell_type": "markdown",
   "metadata": {},
   "source": [
    "# <a id='Link-SecDataExpl'>Data exploration</a>  \n",
    "\n",
    "## <a id='Link-SecDataExpl-Summary'>Data summary</a>"
   ]
  },
  {
   "cell_type": "code",
   "execution_count": 3,
   "metadata": {
    "execution": {
     "iopub.execute_input": "2021-07-06T14:01:11.564469Z",
     "iopub.status.busy": "2021-07-06T14:01:11.563673Z",
     "iopub.status.idle": "2021-07-06T14:01:11.608233Z",
     "shell.execute_reply": "2021-07-06T14:01:11.606829Z",
     "shell.execute_reply.started": "2021-07-06T14:01:11.564388Z"
    }
   },
   "outputs": [
    {
     "data": {
      "text/html": [
       "<div>\n",
       "<style scoped>\n",
       "    .dataframe tbody tr th:only-of-type {\n",
       "        vertical-align: middle;\n",
       "    }\n",
       "\n",
       "    .dataframe tbody tr th {\n",
       "        vertical-align: top;\n",
       "    }\n",
       "\n",
       "    .dataframe thead th {\n",
       "        text-align: right;\n",
       "    }\n",
       "</style>\n",
       "<table border=\"1\" class=\"dataframe\">\n",
       "  <thead>\n",
       "    <tr style=\"text-align: right;\">\n",
       "      <th></th>\n",
       "      <th>MSSubClass</th>\n",
       "      <th>MSZoning</th>\n",
       "      <th>LotFrontage</th>\n",
       "      <th>LotArea</th>\n",
       "      <th>Street</th>\n",
       "      <th>Alley</th>\n",
       "      <th>LotShape</th>\n",
       "      <th>LandContour</th>\n",
       "      <th>Utilities</th>\n",
       "      <th>LotConfig</th>\n",
       "      <th>...</th>\n",
       "      <th>PoolArea</th>\n",
       "      <th>PoolQC</th>\n",
       "      <th>Fence</th>\n",
       "      <th>MiscFeature</th>\n",
       "      <th>MiscVal</th>\n",
       "      <th>MoSold</th>\n",
       "      <th>YrSold</th>\n",
       "      <th>SaleType</th>\n",
       "      <th>SaleCondition</th>\n",
       "      <th>SalePrice</th>\n",
       "    </tr>\n",
       "    <tr>\n",
       "      <th>Id</th>\n",
       "      <th></th>\n",
       "      <th></th>\n",
       "      <th></th>\n",
       "      <th></th>\n",
       "      <th></th>\n",
       "      <th></th>\n",
       "      <th></th>\n",
       "      <th></th>\n",
       "      <th></th>\n",
       "      <th></th>\n",
       "      <th></th>\n",
       "      <th></th>\n",
       "      <th></th>\n",
       "      <th></th>\n",
       "      <th></th>\n",
       "      <th></th>\n",
       "      <th></th>\n",
       "      <th></th>\n",
       "      <th></th>\n",
       "      <th></th>\n",
       "      <th></th>\n",
       "    </tr>\n",
       "  </thead>\n",
       "  <tbody>\n",
       "    <tr>\n",
       "      <th>1</th>\n",
       "      <td>60</td>\n",
       "      <td>RL</td>\n",
       "      <td>65.0</td>\n",
       "      <td>8450</td>\n",
       "      <td>Pave</td>\n",
       "      <td>NaN</td>\n",
       "      <td>Reg</td>\n",
       "      <td>Lvl</td>\n",
       "      <td>AllPub</td>\n",
       "      <td>Inside</td>\n",
       "      <td>...</td>\n",
       "      <td>0</td>\n",
       "      <td>NaN</td>\n",
       "      <td>NaN</td>\n",
       "      <td>NaN</td>\n",
       "      <td>0</td>\n",
       "      <td>2</td>\n",
       "      <td>2008</td>\n",
       "      <td>WD</td>\n",
       "      <td>Normal</td>\n",
       "      <td>208500</td>\n",
       "    </tr>\n",
       "    <tr>\n",
       "      <th>2</th>\n",
       "      <td>20</td>\n",
       "      <td>RL</td>\n",
       "      <td>80.0</td>\n",
       "      <td>9600</td>\n",
       "      <td>Pave</td>\n",
       "      <td>NaN</td>\n",
       "      <td>Reg</td>\n",
       "      <td>Lvl</td>\n",
       "      <td>AllPub</td>\n",
       "      <td>FR2</td>\n",
       "      <td>...</td>\n",
       "      <td>0</td>\n",
       "      <td>NaN</td>\n",
       "      <td>NaN</td>\n",
       "      <td>NaN</td>\n",
       "      <td>0</td>\n",
       "      <td>5</td>\n",
       "      <td>2007</td>\n",
       "      <td>WD</td>\n",
       "      <td>Normal</td>\n",
       "      <td>181500</td>\n",
       "    </tr>\n",
       "    <tr>\n",
       "      <th>3</th>\n",
       "      <td>60</td>\n",
       "      <td>RL</td>\n",
       "      <td>68.0</td>\n",
       "      <td>11250</td>\n",
       "      <td>Pave</td>\n",
       "      <td>NaN</td>\n",
       "      <td>IR1</td>\n",
       "      <td>Lvl</td>\n",
       "      <td>AllPub</td>\n",
       "      <td>Inside</td>\n",
       "      <td>...</td>\n",
       "      <td>0</td>\n",
       "      <td>NaN</td>\n",
       "      <td>NaN</td>\n",
       "      <td>NaN</td>\n",
       "      <td>0</td>\n",
       "      <td>9</td>\n",
       "      <td>2008</td>\n",
       "      <td>WD</td>\n",
       "      <td>Normal</td>\n",
       "      <td>223500</td>\n",
       "    </tr>\n",
       "    <tr>\n",
       "      <th>4</th>\n",
       "      <td>70</td>\n",
       "      <td>RL</td>\n",
       "      <td>60.0</td>\n",
       "      <td>9550</td>\n",
       "      <td>Pave</td>\n",
       "      <td>NaN</td>\n",
       "      <td>IR1</td>\n",
       "      <td>Lvl</td>\n",
       "      <td>AllPub</td>\n",
       "      <td>Corner</td>\n",
       "      <td>...</td>\n",
       "      <td>0</td>\n",
       "      <td>NaN</td>\n",
       "      <td>NaN</td>\n",
       "      <td>NaN</td>\n",
       "      <td>0</td>\n",
       "      <td>2</td>\n",
       "      <td>2006</td>\n",
       "      <td>WD</td>\n",
       "      <td>Abnorml</td>\n",
       "      <td>140000</td>\n",
       "    </tr>\n",
       "    <tr>\n",
       "      <th>5</th>\n",
       "      <td>60</td>\n",
       "      <td>RL</td>\n",
       "      <td>84.0</td>\n",
       "      <td>14260</td>\n",
       "      <td>Pave</td>\n",
       "      <td>NaN</td>\n",
       "      <td>IR1</td>\n",
       "      <td>Lvl</td>\n",
       "      <td>AllPub</td>\n",
       "      <td>FR2</td>\n",
       "      <td>...</td>\n",
       "      <td>0</td>\n",
       "      <td>NaN</td>\n",
       "      <td>NaN</td>\n",
       "      <td>NaN</td>\n",
       "      <td>0</td>\n",
       "      <td>12</td>\n",
       "      <td>2008</td>\n",
       "      <td>WD</td>\n",
       "      <td>Normal</td>\n",
       "      <td>250000</td>\n",
       "    </tr>\n",
       "  </tbody>\n",
       "</table>\n",
       "<p>5 rows × 80 columns</p>\n",
       "</div>"
      ],
      "text/plain": [
       "    MSSubClass MSZoning  LotFrontage  LotArea Street Alley LotShape  \\\n",
       "Id                                                                    \n",
       "1           60       RL         65.0     8450   Pave   NaN      Reg   \n",
       "2           20       RL         80.0     9600   Pave   NaN      Reg   \n",
       "3           60       RL         68.0    11250   Pave   NaN      IR1   \n",
       "4           70       RL         60.0     9550   Pave   NaN      IR1   \n",
       "5           60       RL         84.0    14260   Pave   NaN      IR1   \n",
       "\n",
       "   LandContour Utilities LotConfig  ... PoolArea PoolQC Fence MiscFeature  \\\n",
       "Id                                  ...                                     \n",
       "1          Lvl    AllPub    Inside  ...        0    NaN   NaN         NaN   \n",
       "2          Lvl    AllPub       FR2  ...        0    NaN   NaN         NaN   \n",
       "3          Lvl    AllPub    Inside  ...        0    NaN   NaN         NaN   \n",
       "4          Lvl    AllPub    Corner  ...        0    NaN   NaN         NaN   \n",
       "5          Lvl    AllPub       FR2  ...        0    NaN   NaN         NaN   \n",
       "\n",
       "   MiscVal MoSold  YrSold  SaleType  SaleCondition  SalePrice  \n",
       "Id                                                             \n",
       "1        0      2    2008        WD         Normal     208500  \n",
       "2        0      5    2007        WD         Normal     181500  \n",
       "3        0      9    2008        WD         Normal     223500  \n",
       "4        0      2    2006        WD        Abnorml     140000  \n",
       "5        0     12    2008        WD         Normal     250000  \n",
       "\n",
       "[5 rows x 80 columns]"
      ]
     },
     "execution_count": 3,
     "metadata": {},
     "output_type": "execute_result"
    }
   ],
   "source": [
    "#Visualize the first entries of the dataset\n",
    "train_data.head()\n",
    "#test_data.head()"
   ]
  },
  {
   "cell_type": "code",
   "execution_count": 4,
   "metadata": {
    "execution": {
     "iopub.execute_input": "2021-07-06T14:01:11.611626Z",
     "iopub.status.busy": "2021-07-06T14:01:11.611142Z",
     "iopub.status.idle": "2021-07-06T14:01:11.750701Z",
     "shell.execute_reply": "2021-07-06T14:01:11.749316Z",
     "shell.execute_reply.started": "2021-07-06T14:01:11.611580Z"
    }
   },
   "outputs": [
    {
     "data": {
      "text/html": [
       "<div>\n",
       "<style scoped>\n",
       "    .dataframe tbody tr th:only-of-type {\n",
       "        vertical-align: middle;\n",
       "    }\n",
       "\n",
       "    .dataframe tbody tr th {\n",
       "        vertical-align: top;\n",
       "    }\n",
       "\n",
       "    .dataframe thead th {\n",
       "        text-align: right;\n",
       "    }\n",
       "</style>\n",
       "<table border=\"1\" class=\"dataframe\">\n",
       "  <thead>\n",
       "    <tr style=\"text-align: right;\">\n",
       "      <th></th>\n",
       "      <th>MSSubClass</th>\n",
       "      <th>LotFrontage</th>\n",
       "      <th>LotArea</th>\n",
       "      <th>OverallQual</th>\n",
       "      <th>OverallCond</th>\n",
       "      <th>YearBuilt</th>\n",
       "      <th>YearRemodAdd</th>\n",
       "      <th>MasVnrArea</th>\n",
       "      <th>BsmtFinSF1</th>\n",
       "      <th>BsmtFinSF2</th>\n",
       "      <th>...</th>\n",
       "      <th>WoodDeckSF</th>\n",
       "      <th>OpenPorchSF</th>\n",
       "      <th>EnclosedPorch</th>\n",
       "      <th>3SsnPorch</th>\n",
       "      <th>ScreenPorch</th>\n",
       "      <th>PoolArea</th>\n",
       "      <th>MiscVal</th>\n",
       "      <th>MoSold</th>\n",
       "      <th>YrSold</th>\n",
       "      <th>SalePrice</th>\n",
       "    </tr>\n",
       "  </thead>\n",
       "  <tbody>\n",
       "    <tr>\n",
       "      <th>count</th>\n",
       "      <td>1460.000000</td>\n",
       "      <td>1201.000000</td>\n",
       "      <td>1460.000000</td>\n",
       "      <td>1460.000000</td>\n",
       "      <td>1460.000000</td>\n",
       "      <td>1460.000000</td>\n",
       "      <td>1460.000000</td>\n",
       "      <td>1452.000000</td>\n",
       "      <td>1460.000000</td>\n",
       "      <td>1460.000000</td>\n",
       "      <td>...</td>\n",
       "      <td>1460.000000</td>\n",
       "      <td>1460.000000</td>\n",
       "      <td>1460.000000</td>\n",
       "      <td>1460.000000</td>\n",
       "      <td>1460.000000</td>\n",
       "      <td>1460.000000</td>\n",
       "      <td>1460.000000</td>\n",
       "      <td>1460.000000</td>\n",
       "      <td>1460.000000</td>\n",
       "      <td>1460.000000</td>\n",
       "    </tr>\n",
       "    <tr>\n",
       "      <th>mean</th>\n",
       "      <td>56.897260</td>\n",
       "      <td>70.049958</td>\n",
       "      <td>10516.828082</td>\n",
       "      <td>6.099315</td>\n",
       "      <td>5.575342</td>\n",
       "      <td>1971.267808</td>\n",
       "      <td>1984.865753</td>\n",
       "      <td>103.685262</td>\n",
       "      <td>443.639726</td>\n",
       "      <td>46.549315</td>\n",
       "      <td>...</td>\n",
       "      <td>94.244521</td>\n",
       "      <td>46.660274</td>\n",
       "      <td>21.954110</td>\n",
       "      <td>3.409589</td>\n",
       "      <td>15.060959</td>\n",
       "      <td>2.758904</td>\n",
       "      <td>43.489041</td>\n",
       "      <td>6.321918</td>\n",
       "      <td>2007.815753</td>\n",
       "      <td>180921.195890</td>\n",
       "    </tr>\n",
       "    <tr>\n",
       "      <th>std</th>\n",
       "      <td>42.300571</td>\n",
       "      <td>24.284752</td>\n",
       "      <td>9981.264932</td>\n",
       "      <td>1.382997</td>\n",
       "      <td>1.112799</td>\n",
       "      <td>30.202904</td>\n",
       "      <td>20.645407</td>\n",
       "      <td>181.066207</td>\n",
       "      <td>456.098091</td>\n",
       "      <td>161.319273</td>\n",
       "      <td>...</td>\n",
       "      <td>125.338794</td>\n",
       "      <td>66.256028</td>\n",
       "      <td>61.119149</td>\n",
       "      <td>29.317331</td>\n",
       "      <td>55.757415</td>\n",
       "      <td>40.177307</td>\n",
       "      <td>496.123024</td>\n",
       "      <td>2.703626</td>\n",
       "      <td>1.328095</td>\n",
       "      <td>79442.502883</td>\n",
       "    </tr>\n",
       "    <tr>\n",
       "      <th>min</th>\n",
       "      <td>20.000000</td>\n",
       "      <td>21.000000</td>\n",
       "      <td>1300.000000</td>\n",
       "      <td>1.000000</td>\n",
       "      <td>1.000000</td>\n",
       "      <td>1872.000000</td>\n",
       "      <td>1950.000000</td>\n",
       "      <td>0.000000</td>\n",
       "      <td>0.000000</td>\n",
       "      <td>0.000000</td>\n",
       "      <td>...</td>\n",
       "      <td>0.000000</td>\n",
       "      <td>0.000000</td>\n",
       "      <td>0.000000</td>\n",
       "      <td>0.000000</td>\n",
       "      <td>0.000000</td>\n",
       "      <td>0.000000</td>\n",
       "      <td>0.000000</td>\n",
       "      <td>1.000000</td>\n",
       "      <td>2006.000000</td>\n",
       "      <td>34900.000000</td>\n",
       "    </tr>\n",
       "    <tr>\n",
       "      <th>25%</th>\n",
       "      <td>20.000000</td>\n",
       "      <td>59.000000</td>\n",
       "      <td>7553.500000</td>\n",
       "      <td>5.000000</td>\n",
       "      <td>5.000000</td>\n",
       "      <td>1954.000000</td>\n",
       "      <td>1967.000000</td>\n",
       "      <td>0.000000</td>\n",
       "      <td>0.000000</td>\n",
       "      <td>0.000000</td>\n",
       "      <td>...</td>\n",
       "      <td>0.000000</td>\n",
       "      <td>0.000000</td>\n",
       "      <td>0.000000</td>\n",
       "      <td>0.000000</td>\n",
       "      <td>0.000000</td>\n",
       "      <td>0.000000</td>\n",
       "      <td>0.000000</td>\n",
       "      <td>5.000000</td>\n",
       "      <td>2007.000000</td>\n",
       "      <td>129975.000000</td>\n",
       "    </tr>\n",
       "    <tr>\n",
       "      <th>50%</th>\n",
       "      <td>50.000000</td>\n",
       "      <td>69.000000</td>\n",
       "      <td>9478.500000</td>\n",
       "      <td>6.000000</td>\n",
       "      <td>5.000000</td>\n",
       "      <td>1973.000000</td>\n",
       "      <td>1994.000000</td>\n",
       "      <td>0.000000</td>\n",
       "      <td>383.500000</td>\n",
       "      <td>0.000000</td>\n",
       "      <td>...</td>\n",
       "      <td>0.000000</td>\n",
       "      <td>25.000000</td>\n",
       "      <td>0.000000</td>\n",
       "      <td>0.000000</td>\n",
       "      <td>0.000000</td>\n",
       "      <td>0.000000</td>\n",
       "      <td>0.000000</td>\n",
       "      <td>6.000000</td>\n",
       "      <td>2008.000000</td>\n",
       "      <td>163000.000000</td>\n",
       "    </tr>\n",
       "    <tr>\n",
       "      <th>75%</th>\n",
       "      <td>70.000000</td>\n",
       "      <td>80.000000</td>\n",
       "      <td>11601.500000</td>\n",
       "      <td>7.000000</td>\n",
       "      <td>6.000000</td>\n",
       "      <td>2000.000000</td>\n",
       "      <td>2004.000000</td>\n",
       "      <td>166.000000</td>\n",
       "      <td>712.250000</td>\n",
       "      <td>0.000000</td>\n",
       "      <td>...</td>\n",
       "      <td>168.000000</td>\n",
       "      <td>68.000000</td>\n",
       "      <td>0.000000</td>\n",
       "      <td>0.000000</td>\n",
       "      <td>0.000000</td>\n",
       "      <td>0.000000</td>\n",
       "      <td>0.000000</td>\n",
       "      <td>8.000000</td>\n",
       "      <td>2009.000000</td>\n",
       "      <td>214000.000000</td>\n",
       "    </tr>\n",
       "    <tr>\n",
       "      <th>max</th>\n",
       "      <td>190.000000</td>\n",
       "      <td>313.000000</td>\n",
       "      <td>215245.000000</td>\n",
       "      <td>10.000000</td>\n",
       "      <td>9.000000</td>\n",
       "      <td>2010.000000</td>\n",
       "      <td>2010.000000</td>\n",
       "      <td>1600.000000</td>\n",
       "      <td>5644.000000</td>\n",
       "      <td>1474.000000</td>\n",
       "      <td>...</td>\n",
       "      <td>857.000000</td>\n",
       "      <td>547.000000</td>\n",
       "      <td>552.000000</td>\n",
       "      <td>508.000000</td>\n",
       "      <td>480.000000</td>\n",
       "      <td>738.000000</td>\n",
       "      <td>15500.000000</td>\n",
       "      <td>12.000000</td>\n",
       "      <td>2010.000000</td>\n",
       "      <td>755000.000000</td>\n",
       "    </tr>\n",
       "  </tbody>\n",
       "</table>\n",
       "<p>8 rows × 37 columns</p>\n",
       "</div>"
      ],
      "text/plain": [
       "        MSSubClass  LotFrontage        LotArea  OverallQual  OverallCond  \\\n",
       "count  1460.000000  1201.000000    1460.000000  1460.000000  1460.000000   \n",
       "mean     56.897260    70.049958   10516.828082     6.099315     5.575342   \n",
       "std      42.300571    24.284752    9981.264932     1.382997     1.112799   \n",
       "min      20.000000    21.000000    1300.000000     1.000000     1.000000   \n",
       "25%      20.000000    59.000000    7553.500000     5.000000     5.000000   \n",
       "50%      50.000000    69.000000    9478.500000     6.000000     5.000000   \n",
       "75%      70.000000    80.000000   11601.500000     7.000000     6.000000   \n",
       "max     190.000000   313.000000  215245.000000    10.000000     9.000000   \n",
       "\n",
       "         YearBuilt  YearRemodAdd   MasVnrArea   BsmtFinSF1   BsmtFinSF2  ...  \\\n",
       "count  1460.000000   1460.000000  1452.000000  1460.000000  1460.000000  ...   \n",
       "mean   1971.267808   1984.865753   103.685262   443.639726    46.549315  ...   \n",
       "std      30.202904     20.645407   181.066207   456.098091   161.319273  ...   \n",
       "min    1872.000000   1950.000000     0.000000     0.000000     0.000000  ...   \n",
       "25%    1954.000000   1967.000000     0.000000     0.000000     0.000000  ...   \n",
       "50%    1973.000000   1994.000000     0.000000   383.500000     0.000000  ...   \n",
       "75%    2000.000000   2004.000000   166.000000   712.250000     0.000000  ...   \n",
       "max    2010.000000   2010.000000  1600.000000  5644.000000  1474.000000  ...   \n",
       "\n",
       "        WoodDeckSF  OpenPorchSF  EnclosedPorch    3SsnPorch  ScreenPorch  \\\n",
       "count  1460.000000  1460.000000    1460.000000  1460.000000  1460.000000   \n",
       "mean     94.244521    46.660274      21.954110     3.409589    15.060959   \n",
       "std     125.338794    66.256028      61.119149    29.317331    55.757415   \n",
       "min       0.000000     0.000000       0.000000     0.000000     0.000000   \n",
       "25%       0.000000     0.000000       0.000000     0.000000     0.000000   \n",
       "50%       0.000000    25.000000       0.000000     0.000000     0.000000   \n",
       "75%     168.000000    68.000000       0.000000     0.000000     0.000000   \n",
       "max     857.000000   547.000000     552.000000   508.000000   480.000000   \n",
       "\n",
       "          PoolArea       MiscVal       MoSold       YrSold      SalePrice  \n",
       "count  1460.000000   1460.000000  1460.000000  1460.000000    1460.000000  \n",
       "mean      2.758904     43.489041     6.321918  2007.815753  180921.195890  \n",
       "std      40.177307    496.123024     2.703626     1.328095   79442.502883  \n",
       "min       0.000000      0.000000     1.000000  2006.000000   34900.000000  \n",
       "25%       0.000000      0.000000     5.000000  2007.000000  129975.000000  \n",
       "50%       0.000000      0.000000     6.000000  2008.000000  163000.000000  \n",
       "75%       0.000000      0.000000     8.000000  2009.000000  214000.000000  \n",
       "max     738.000000  15500.000000    12.000000  2010.000000  755000.000000  \n",
       "\n",
       "[8 rows x 37 columns]"
      ]
     },
     "execution_count": 4,
     "metadata": {},
     "output_type": "execute_result"
    }
   ],
   "source": [
    "#Brief summary of numerical columns\n",
    "train_data.describe()\n",
    "#test_data.describe()"
   ]
  },
  {
   "cell_type": "code",
   "execution_count": 5,
   "metadata": {
    "execution": {
     "iopub.execute_input": "2021-07-06T14:01:11.753083Z",
     "iopub.status.busy": "2021-07-06T14:01:11.752624Z",
     "iopub.status.idle": "2021-07-06T14:01:11.898094Z",
     "shell.execute_reply": "2021-07-06T14:01:11.897043Z",
     "shell.execute_reply.started": "2021-07-06T14:01:11.753035Z"
    }
   },
   "outputs": [
    {
     "data": {
      "text/html": [
       "<div>\n",
       "<style scoped>\n",
       "    .dataframe tbody tr th:only-of-type {\n",
       "        vertical-align: middle;\n",
       "    }\n",
       "\n",
       "    .dataframe tbody tr th {\n",
       "        vertical-align: top;\n",
       "    }\n",
       "\n",
       "    .dataframe thead th {\n",
       "        text-align: right;\n",
       "    }\n",
       "</style>\n",
       "<table border=\"1\" class=\"dataframe\">\n",
       "  <thead>\n",
       "    <tr style=\"text-align: right;\">\n",
       "      <th></th>\n",
       "      <th>MSZoning</th>\n",
       "      <th>Street</th>\n",
       "      <th>Alley</th>\n",
       "      <th>LotShape</th>\n",
       "      <th>LandContour</th>\n",
       "      <th>Utilities</th>\n",
       "      <th>LotConfig</th>\n",
       "      <th>LandSlope</th>\n",
       "      <th>Neighborhood</th>\n",
       "      <th>Condition1</th>\n",
       "      <th>...</th>\n",
       "      <th>GarageType</th>\n",
       "      <th>GarageFinish</th>\n",
       "      <th>GarageQual</th>\n",
       "      <th>GarageCond</th>\n",
       "      <th>PavedDrive</th>\n",
       "      <th>PoolQC</th>\n",
       "      <th>Fence</th>\n",
       "      <th>MiscFeature</th>\n",
       "      <th>SaleType</th>\n",
       "      <th>SaleCondition</th>\n",
       "    </tr>\n",
       "  </thead>\n",
       "  <tbody>\n",
       "    <tr>\n",
       "      <th>count</th>\n",
       "      <td>1460</td>\n",
       "      <td>1460</td>\n",
       "      <td>91</td>\n",
       "      <td>1460</td>\n",
       "      <td>1460</td>\n",
       "      <td>1460</td>\n",
       "      <td>1460</td>\n",
       "      <td>1460</td>\n",
       "      <td>1460</td>\n",
       "      <td>1460</td>\n",
       "      <td>...</td>\n",
       "      <td>1379</td>\n",
       "      <td>1379</td>\n",
       "      <td>1379</td>\n",
       "      <td>1379</td>\n",
       "      <td>1460</td>\n",
       "      <td>7</td>\n",
       "      <td>281</td>\n",
       "      <td>54</td>\n",
       "      <td>1460</td>\n",
       "      <td>1460</td>\n",
       "    </tr>\n",
       "    <tr>\n",
       "      <th>unique</th>\n",
       "      <td>5</td>\n",
       "      <td>2</td>\n",
       "      <td>2</td>\n",
       "      <td>4</td>\n",
       "      <td>4</td>\n",
       "      <td>2</td>\n",
       "      <td>5</td>\n",
       "      <td>3</td>\n",
       "      <td>25</td>\n",
       "      <td>9</td>\n",
       "      <td>...</td>\n",
       "      <td>6</td>\n",
       "      <td>3</td>\n",
       "      <td>5</td>\n",
       "      <td>5</td>\n",
       "      <td>3</td>\n",
       "      <td>3</td>\n",
       "      <td>4</td>\n",
       "      <td>4</td>\n",
       "      <td>9</td>\n",
       "      <td>6</td>\n",
       "    </tr>\n",
       "    <tr>\n",
       "      <th>top</th>\n",
       "      <td>RL</td>\n",
       "      <td>Pave</td>\n",
       "      <td>Grvl</td>\n",
       "      <td>Reg</td>\n",
       "      <td>Lvl</td>\n",
       "      <td>AllPub</td>\n",
       "      <td>Inside</td>\n",
       "      <td>Gtl</td>\n",
       "      <td>NAmes</td>\n",
       "      <td>Norm</td>\n",
       "      <td>...</td>\n",
       "      <td>Attchd</td>\n",
       "      <td>Unf</td>\n",
       "      <td>TA</td>\n",
       "      <td>TA</td>\n",
       "      <td>Y</td>\n",
       "      <td>Gd</td>\n",
       "      <td>MnPrv</td>\n",
       "      <td>Shed</td>\n",
       "      <td>WD</td>\n",
       "      <td>Normal</td>\n",
       "    </tr>\n",
       "    <tr>\n",
       "      <th>freq</th>\n",
       "      <td>1151</td>\n",
       "      <td>1454</td>\n",
       "      <td>50</td>\n",
       "      <td>925</td>\n",
       "      <td>1311</td>\n",
       "      <td>1459</td>\n",
       "      <td>1052</td>\n",
       "      <td>1382</td>\n",
       "      <td>225</td>\n",
       "      <td>1260</td>\n",
       "      <td>...</td>\n",
       "      <td>870</td>\n",
       "      <td>605</td>\n",
       "      <td>1311</td>\n",
       "      <td>1326</td>\n",
       "      <td>1340</td>\n",
       "      <td>3</td>\n",
       "      <td>157</td>\n",
       "      <td>49</td>\n",
       "      <td>1267</td>\n",
       "      <td>1198</td>\n",
       "    </tr>\n",
       "  </tbody>\n",
       "</table>\n",
       "<p>4 rows × 43 columns</p>\n",
       "</div>"
      ],
      "text/plain": [
       "       MSZoning Street Alley LotShape LandContour Utilities LotConfig  \\\n",
       "count      1460   1460    91     1460        1460      1460      1460   \n",
       "unique        5      2     2        4           4         2         5   \n",
       "top          RL   Pave  Grvl      Reg         Lvl    AllPub    Inside   \n",
       "freq       1151   1454    50      925        1311      1459      1052   \n",
       "\n",
       "       LandSlope Neighborhood Condition1  ... GarageType GarageFinish  \\\n",
       "count       1460         1460       1460  ...       1379         1379   \n",
       "unique         3           25          9  ...          6            3   \n",
       "top          Gtl        NAmes       Norm  ...     Attchd          Unf   \n",
       "freq        1382          225       1260  ...        870          605   \n",
       "\n",
       "       GarageQual GarageCond PavedDrive PoolQC  Fence MiscFeature SaleType  \\\n",
       "count        1379       1379       1460      7    281          54     1460   \n",
       "unique          5          5          3      3      4           4        9   \n",
       "top            TA         TA          Y     Gd  MnPrv        Shed       WD   \n",
       "freq         1311       1326       1340      3    157          49     1267   \n",
       "\n",
       "       SaleCondition  \n",
       "count           1460  \n",
       "unique             6  \n",
       "top           Normal  \n",
       "freq            1198  \n",
       "\n",
       "[4 rows x 43 columns]"
      ]
     },
     "execution_count": 5,
     "metadata": {},
     "output_type": "execute_result"
    }
   ],
   "source": [
    "#Brief summary of categorical columns\n",
    "train_data.describe(include=['O'])"
   ]
  },
  {
   "cell_type": "code",
   "execution_count": 6,
   "metadata": {
    "execution": {
     "iopub.execute_input": "2021-07-06T14:01:11.900251Z",
     "iopub.status.busy": "2021-07-06T14:01:11.899765Z",
     "iopub.status.idle": "2021-07-06T14:01:11.925576Z",
     "shell.execute_reply": "2021-07-06T14:01:11.924456Z",
     "shell.execute_reply.started": "2021-07-06T14:01:11.900204Z"
    }
   },
   "outputs": [
    {
     "data": {
      "text/plain": [
       "LotFrontage      259\n",
       "Alley           1369\n",
       "MasVnrType         8\n",
       "MasVnrArea         8\n",
       "BsmtQual          37\n",
       "BsmtCond          37\n",
       "BsmtExposure      38\n",
       "BsmtFinType1      37\n",
       "BsmtFinType2      38\n",
       "Electrical         1\n",
       "FireplaceQu      690\n",
       "GarageType        81\n",
       "GarageYrBlt       81\n",
       "GarageFinish      81\n",
       "GarageQual        81\n",
       "GarageCond        81\n",
       "PoolQC          1453\n",
       "Fence           1179\n",
       "MiscFeature     1406\n",
       "dtype: int64"
      ]
     },
     "execution_count": 6,
     "metadata": {},
     "output_type": "execute_result"
    }
   ],
   "source": [
    "#Identify columns with 'NaN' values and count the NaNs (train set)\n",
    "train_data.isnull().sum()[train_data.isna().sum() != 0]"
   ]
  },
  {
   "cell_type": "code",
   "execution_count": 7,
   "metadata": {
    "execution": {
     "iopub.execute_input": "2021-07-06T14:01:11.929046Z",
     "iopub.status.busy": "2021-07-06T14:01:11.928310Z",
     "iopub.status.idle": "2021-07-06T14:01:11.951827Z",
     "shell.execute_reply": "2021-07-06T14:01:11.950487Z",
     "shell.execute_reply.started": "2021-07-06T14:01:11.928999Z"
    }
   },
   "outputs": [
    {
     "data": {
      "text/plain": [
       "MSZoning           4\n",
       "LotFrontage      227\n",
       "Alley           1352\n",
       "Utilities          2\n",
       "Exterior1st        1\n",
       "Exterior2nd        1\n",
       "MasVnrType        16\n",
       "MasVnrArea        15\n",
       "BsmtQual          44\n",
       "BsmtCond          45\n",
       "BsmtExposure      44\n",
       "BsmtFinType1      42\n",
       "BsmtFinSF1         1\n",
       "BsmtFinType2      42\n",
       "BsmtFinSF2         1\n",
       "BsmtUnfSF          1\n",
       "TotalBsmtSF        1\n",
       "BsmtFullBath       2\n",
       "BsmtHalfBath       2\n",
       "KitchenQual        1\n",
       "Functional         2\n",
       "FireplaceQu      730\n",
       "GarageType        76\n",
       "GarageYrBlt       78\n",
       "GarageFinish      78\n",
       "GarageCars         1\n",
       "GarageArea         1\n",
       "GarageQual        78\n",
       "GarageCond        78\n",
       "PoolQC          1456\n",
       "Fence           1169\n",
       "MiscFeature     1408\n",
       "SaleType           1\n",
       "dtype: int64"
      ]
     },
     "execution_count": 7,
     "metadata": {},
     "output_type": "execute_result"
    }
   ],
   "source": [
    "#Identify columns with 'NaN' values and count the NaNs (test set)\n",
    "test_data.isna().sum()[test_data.isna().sum() != 0]"
   ]
  },
  {
   "cell_type": "markdown",
   "metadata": {},
   "source": [
    "We can see that there is a significant portion of missing values in both the training and testing datasets. However, as we will see later on, most of the missing values can be imputed in a clever way, meaning that the actual values can be deduced from the information provided in columns that don't contain missing entries.\n",
    "\n",
    "## <a id='Link-SecDataExpl-Supplem'>Supplemental lists of features</a>\n",
    "\n",
    "In this subsection we create supplemental lists of features that we will be using for a clever imputation of missing data. "
   ]
  },
  {
   "cell_type": "code",
   "execution_count": 8,
   "metadata": {
    "execution": {
     "iopub.execute_input": "2021-07-06T14:01:11.954263Z",
     "iopub.status.busy": "2021-07-06T14:01:11.953734Z",
     "iopub.status.idle": "2021-07-06T14:01:11.968722Z",
     "shell.execute_reply": "2021-07-06T14:01:11.967283Z",
     "shell.execute_reply.started": "2021-07-06T14:01:11.954216Z"
    }
   },
   "outputs": [
    {
     "name": "stdout",
     "output_type": "stream",
     "text": [
      "The total number of columns: 80.\n",
      "Expected number of columns: 80.\n"
     ]
    }
   ],
   "source": [
    "num_cols = [col for col in train_data.columns if train_data[col].dtype in ['int64', 'float64']]\n",
    "\n",
    "#Numerical columns without 'SalePrice' and 'LotFrontage'\n",
    "num_cols_no_SPLF = [col for col in num_cols if col not in ['SalePrice', 'LotFrontage']]\n",
    "\n",
    "cat_cols = [col for col in train_data.columns if train_data[col].dtype == 'object']\n",
    "\n",
    "all_cols = cat_cols + num_cols\n",
    "\n",
    "#Print out the total number of columns to make sure that nothing is missing\n",
    "print(f'The total number of columns: {len(all_cols)}.')\n",
    "print(f'Expected number of columns: {train_data.shape[1]}.')"
   ]
  },
  {
   "cell_type": "code",
   "execution_count": 9,
   "metadata": {
    "execution": {
     "iopub.execute_input": "2021-07-06T14:01:11.975880Z",
     "iopub.status.busy": "2021-07-06T14:01:11.975234Z",
     "iopub.status.idle": "2021-07-06T14:01:11.983679Z",
     "shell.execute_reply": "2021-07-06T14:01:11.982035Z",
     "shell.execute_reply.started": "2021-07-06T14:01:11.975832Z"
    }
   },
   "outputs": [],
   "source": [
    "#Create lists of garage-related numerical and categorical features  \n",
    "gar_num_cols = ['GarageYrBlt','GarageCars','GarageArea']\n",
    "gar_cat_cols = ['GarageType','GarageFinish','GarageQual','GarageCond']\n",
    "gar_cols = gar_num_cols + gar_cat_cols"
   ]
  },
  {
   "cell_type": "code",
   "execution_count": 10,
   "metadata": {
    "execution": {
     "iopub.execute_input": "2021-07-06T14:01:11.987406Z",
     "iopub.status.busy": "2021-07-06T14:01:11.986815Z",
     "iopub.status.idle": "2021-07-06T14:01:11.996605Z",
     "shell.execute_reply": "2021-07-06T14:01:11.995164Z",
     "shell.execute_reply.started": "2021-07-06T14:01:11.987358Z"
    }
   },
   "outputs": [],
   "source": [
    "#Create lists of basement-related numerical and categorical features  \n",
    "bsmt_num_cols = ['BsmtFinSF1', 'BsmtFinSF2', 'BsmtUnfSF', \n",
    "                 'TotalBsmtSF','BsmtFullBath','BsmtHalfBath']\n",
    "bsmt_cat_cols = ['BsmtQual', 'BsmtCond', 'BsmtExposure', \n",
    "                 'BsmtFinType1', 'BsmtFinType2']\n",
    "bsmt_cols = bsmt_num_cols + bsmt_cat_cols"
   ]
  },
  {
   "cell_type": "markdown",
   "metadata": {},
   "source": [
    "## <a id='Link-SecDataExpl-GenAss'>General assesment of correlations/associations </a>\n",
    "\n",
    "Here, we will peform a general assesment of correlation/assosiation between the <span style=\"color:FireBrick;\">'SalePrice'</span> column and rest of the features. The <span style=\"color:FireBrick;\">'SalePrice'</span> is a numerical column, whereas the other 79 columns are either numerical or categorical. This means, we will need to analyze 2 different types of association/correlation: 1) a numerical-numerical correlation and 2) a categorical-numerical association.\n",
    "\n",
    "To estimate the corresponding associations/correlations, we will use the [dython](http://shakedzy.xyz/dython/) library (see [this link](https://towardsdatascience.com/the-search-for-categorical-correlation-a1cf7f1888c9) and [this kaggle notebook](https://www.kaggle.com/alexkoshchii/top-7-titanic-dataset-notebook) for more examples). The dython library enables one to evaluate the following:\n",
    "\n",
    "* The `categorical-categorical` feature association (e.g. using the _Theil's U_ measure).\n",
    "* The `numerical-categorical` feature association (using the _correlation ratio_ measure called Eta). \n",
    "* The `numerical-numerical` correlation (using the _Pearson's R_ measure).\n",
    "<a id='Fig1Link'></a>"
   ]
  },
  {
   "cell_type": "code",
   "execution_count": 11,
   "metadata": {
    "execution": {
     "iopub.execute_input": "2021-07-06T14:01:11.999851Z",
     "iopub.status.busy": "2021-07-06T14:01:11.999035Z",
     "iopub.status.idle": "2021-07-06T14:01:13.226838Z",
     "shell.execute_reply": "2021-07-06T14:01:13.225615Z",
     "shell.execute_reply.started": "2021-07-06T14:01:11.999803Z"
    }
   },
   "outputs": [
    {
     "name": "stderr",
     "output_type": "stream",
     "text": [
      "C:\\Users\\alexk\\anaconda3\\lib\\site-packages\\pandas\\core\\frame.py:4462: SettingWithCopyWarning: \n",
      "A value is trying to be set on a copy of a slice from a DataFrame\n",
      "\n",
      "See the caveats in the documentation: https://pandas.pydata.org/pandas-docs/stable/user_guide/indexing.html#returning-a-view-versus-a-copy\n",
      "  return super().fillna(\n"
     ]
    },
    {
     "data": {
      "image/png": "[encoded data removed]",
      "text/plain": [
       "<Figure size 1080x144 with 2 Axes>"
      ]
     },
     "metadata": {
      "needs_background": "light"
     },
     "output_type": "display_data"
    }
   ],
   "source": [
    "from dython.nominal import compute_associations\n",
    "\n",
    "#Compute numerical-numerical correlations\n",
    "num_corr_table = compute_associations(train_data[num_cols])\n",
    "\n",
    "#Visualize correlations\n",
    "plt.subplots(figsize=(15,2))\n",
    "fig1 = sns.heatmap(num_corr_table[['SalePrice']].sort_values(by=['SalePrice']).T)\n",
    "fig1.set(title = \"Fig. 1. Corelations between 'SalePrice' and the rest of numerical features.\");"
   ]
  },
  {
   "cell_type": "code",
   "execution_count": 12,
   "metadata": {
    "execution": {
     "iopub.execute_input": "2021-07-06T14:01:13.230616Z",
     "iopub.status.busy": "2021-07-06T14:01:13.230299Z",
     "iopub.status.idle": "2021-07-06T14:01:28.587423Z",
     "shell.execute_reply": "2021-07-06T14:01:28.586348Z",
     "shell.execute_reply.started": "2021-07-06T14:01:13.230587Z"
    }
   },
   "outputs": [
    {
     "data": {
      "image/png": "[encoded data removed]",
      "text/plain": [
       "<Figure size 1080x144 with 2 Axes>"
      ]
     },
     "metadata": {
      "needs_background": "light"
     },
     "output_type": "display_data"
    }
   ],
   "source": [
    "#Add 'SalePrice' to the list of categorical features for the data visualisation purposes\n",
    "cat_cols.append('SalePrice')\n",
    "\n",
    "#Compute numerical-categorical feature associations\n",
    "numcat_assoc_table = compute_associations(train_data[cat_cols])\n",
    "\n",
    "#Visualize associations\n",
    "plt.subplots(figsize=(15,2))\n",
    "fig2 = sns.heatmap(numcat_assoc_table[['SalePrice']].sort_values(by=['SalePrice']).T)\n",
    "fig2.set(title = \"Fig. 2. Associations between 'SalePrice' and categorical features.\")\n",
    "\n",
    "#Remove 'SalePrice' from the list of categorical features\n",
    "cat_cols.pop();"
   ]
  },
  {
   "cell_type": "markdown",
   "metadata": {},
   "source": [
    "We notice that most of the features that contain missing values in the train/test dataset have a strong degree of association/correlation with <span style=\"color:FireBrick;\">'SalePrice'</span>. This means that we should carefully impute the corresponding missing values, as they may have a significant impact on the predictions of our model.\n",
    "\n",
    "# <a id='Link-SecImp'>Data imputation</a>\n",
    "\n",
    "In order to better understand the data imputation strategy discussed below, one may need to look up occasionaly the \"Data Description\" information for the housing-prices dataset provided [here](https://www.kaggle.com/c/home-data-for-ml-course/data).\n",
    "\n",
    "## <a id='Link-SecImp-Bsmt'>Basement-related features</a>\n",
    "\n",
    "We will start with imputing the basement-related features. First, we will visualize the corresponding data and notice that, for example, the hight of a basement (<span style=\"color:FireBrick;\">'BsmtQual'</span>) and its area (<span style=\"color:FireBrick;\">'TotalBsmtSF'</span>) have a strong association/correlation with the price of a house."
   ]
  },
  {
   "cell_type": "code",
   "execution_count": 13,
   "metadata": {
    "execution": {
     "iopub.execute_input": "2021-07-06T14:01:28.589535Z",
     "iopub.status.busy": "2021-07-06T14:01:28.588993Z",
     "iopub.status.idle": "2021-07-06T14:01:29.253523Z",
     "shell.execute_reply": "2021-07-06T14:01:29.247245Z",
     "shell.execute_reply.started": "2021-07-06T14:01:28.589489Z"
    }
   },
   "outputs": [
    {
     "name": "stderr",
     "output_type": "stream",
     "text": [
      "C:\\Users\\alexk\\anaconda3\\lib\\site-packages\\pandas\\core\\frame.py:4462: SettingWithCopyWarning: \n",
      "A value is trying to be set on a copy of a slice from a DataFrame\n",
      "\n",
      "See the caveats in the documentation: https://pandas.pydata.org/pandas-docs/stable/user_guide/indexing.html#returning-a-view-versus-a-copy\n",
      "  return super().fillna(\n"
     ]
    },
    {
     "data": {
      "image/png": "[encoded data removed]",
      "text/plain": [
       "<Figure size 1080x144 with 2 Axes>"
      ]
     },
     "metadata": {
      "needs_background": "light"
     },
     "output_type": "display_data"
    }
   ],
   "source": [
    "#Add 'SalePrice' to the list of basement-related features for the data visualisation purposes\n",
    "bsmt_cols.append('SalePrice')\n",
    "\n",
    "#Compute associations\n",
    "bsmt_assoc_table = compute_associations(train_data[bsmt_cols])\n",
    "\n",
    "#Visualize associations\n",
    "plt.subplots(figsize=(15,2))\n",
    "fig3 = sns.heatmap(bsmt_assoc_table[['SalePrice']].sort_values(by=['SalePrice']).T)\n",
    "fig3.set(title = \"Fig. 3. Associations between 'SalePrice' and basement-related features.\");\n",
    "bsmt_cols.pop();"
   ]
  },
  {
   "cell_type": "code",
   "execution_count": 14,
   "metadata": {
    "execution": {
     "iopub.execute_input": "2021-07-06T14:01:29.259077Z",
     "iopub.status.busy": "2021-07-06T14:01:29.258623Z",
     "iopub.status.idle": "2021-07-06T14:01:29.270707Z",
     "shell.execute_reply": "2021-07-06T14:01:29.269246Z",
     "shell.execute_reply.started": "2021-07-06T14:01:29.259032Z"
    }
   },
   "outputs": [],
   "source": [
    "#Before imputing the data, we create a copy of the train and test datasets\n",
    "train_data_imp = train_data.copy() \n",
    "test_data_imp = test_data.copy() "
   ]
  },
  {
   "cell_type": "code",
   "execution_count": 15,
   "metadata": {
    "execution": {
     "iopub.execute_input": "2021-07-06T14:01:29.276819Z",
     "iopub.status.busy": "2021-07-06T14:01:29.276290Z",
     "iopub.status.idle": "2021-07-06T14:01:29.309745Z",
     "shell.execute_reply": "2021-07-06T14:01:29.308561Z",
     "shell.execute_reply.started": "2021-07-06T14:01:29.276775Z"
    }
   },
   "outputs": [],
   "source": [
    "#Locate the rows with a basement area = 0 (meaning there are no basements) \n",
    "#and replace the corresponding 'NaN' values of the garage categorical columns with 'NoBsmt'\n",
    "train_data_imp.loc[train_data_imp['TotalBsmtSF'] == 0, bsmt_cat_cols] = \\\n",
    "train_data_imp.loc[train_data_imp['TotalBsmtSF'] == 0, bsmt_cat_cols].fillna(value = 'NoBsmt')\n",
    "\n",
    "test_data_imp.loc[test_data_imp['TotalBsmtSF'] == 0, bsmt_cat_cols] = \\\n",
    "test_data_imp.loc[test_data_imp['TotalBsmtSF'] == 0, bsmt_cat_cols].fillna(value = 'NoBsmt')"
   ]
  },
  {
   "cell_type": "code",
   "execution_count": 16,
   "metadata": {
    "execution": {
     "iopub.execute_input": "2021-07-06T14:01:29.317941Z",
     "iopub.status.busy": "2021-07-06T14:01:29.314999Z",
     "iopub.status.idle": "2021-07-06T14:01:29.342916Z",
     "shell.execute_reply": "2021-07-06T14:01:29.341862Z",
     "shell.execute_reply.started": "2021-07-06T14:01:29.317887Z"
    }
   },
   "outputs": [
    {
     "data": {
      "text/plain": [
       "BsmtExposure    1\n",
       "BsmtFinType2    1\n",
       "dtype: int64"
      ]
     },
     "execution_count": 16,
     "metadata": {},
     "output_type": "execute_result"
    }
   ],
   "source": [
    "#Count remaining 'NaN' values in the basement-related columns in the train set\n",
    "train_data_imp[bsmt_cols].isna().sum()[train_data_imp[bsmt_cols].isna().sum() != 0]"
   ]
  },
  {
   "cell_type": "code",
   "execution_count": 17,
   "metadata": {
    "execution": {
     "iopub.execute_input": "2021-07-06T14:01:29.350131Z",
     "iopub.status.busy": "2021-07-06T14:01:29.347534Z",
     "iopub.status.idle": "2021-07-06T14:01:29.373303Z",
     "shell.execute_reply": "2021-07-06T14:01:29.372239Z",
     "shell.execute_reply.started": "2021-07-06T14:01:29.350065Z"
    }
   },
   "outputs": [
    {
     "data": {
      "text/plain": [
       "BsmtFinSF1      1\n",
       "BsmtFinSF2      1\n",
       "BsmtUnfSF       1\n",
       "TotalBsmtSF     1\n",
       "BsmtFullBath    2\n",
       "BsmtHalfBath    2\n",
       "BsmtQual        3\n",
       "BsmtCond        4\n",
       "BsmtExposure    3\n",
       "BsmtFinType1    1\n",
       "BsmtFinType2    1\n",
       "dtype: int64"
      ]
     },
     "execution_count": 17,
     "metadata": {},
     "output_type": "execute_result"
    }
   ],
   "source": [
    "#Count remaining 'NaN' values in the basement-related columns in the test set\n",
    "test_data_imp[bsmt_cols].isna().sum()[test_data_imp[bsmt_cols].isna().sum() != 0]"
   ]
  },
  {
   "cell_type": "markdown",
   "metadata": {},
   "source": [
    "One can see that most of the missing values in the basement-related features have been fixed.\n",
    "\n",
    "## <a id='Link-SecImp-Gar'>Garage-related features</a>\n",
    "\n",
    "In a similar fashion, we will fix most of the 'NaN' values in the garage-related columns."
   ]
  },
  {
   "cell_type": "code",
   "execution_count": 18,
   "metadata": {
    "execution": {
     "iopub.execute_input": "2021-07-06T14:01:29.380853Z",
     "iopub.status.busy": "2021-07-06T14:01:29.378163Z",
     "iopub.status.idle": "2021-07-06T14:01:30.000537Z",
     "shell.execute_reply": "2021-07-06T14:01:29.999395Z",
     "shell.execute_reply.started": "2021-07-06T14:01:29.380809Z"
    }
   },
   "outputs": [
    {
     "name": "stderr",
     "output_type": "stream",
     "text": [
      "C:\\Users\\alexk\\anaconda3\\lib\\site-packages\\pandas\\core\\frame.py:4462: SettingWithCopyWarning: \n",
      "A value is trying to be set on a copy of a slice from a DataFrame\n",
      "\n",
      "See the caveats in the documentation: https://pandas.pydata.org/pandas-docs/stable/user_guide/indexing.html#returning-a-view-versus-a-copy\n",
      "  return super().fillna(\n"
     ]
    },
    {
     "data": {
      "image/png": "[encoded data removed]",
      "text/plain": [
       "<Figure size 1080x144 with 2 Axes>"
      ]
     },
     "metadata": {
      "needs_background": "light"
     },
     "output_type": "display_data"
    }
   ],
   "source": [
    "#Add 'SalePrice' to the list of garage-related features for the data visualisation purposes\n",
    "gar_cols.append('SalePrice')\n",
    "\n",
    "#Compute associations\n",
    "gar_assoc_table = compute_associations(train_data[gar_cols])\n",
    "\n",
    "#Visualize associations\n",
    "plt.subplots(figsize=(15,2))\n",
    "fig4 = sns.heatmap(gar_assoc_table[['SalePrice']].sort_values(by=['SalePrice']).T)\n",
    "fig4.set(title = \"Fig. 4. Associations between 'SalePrice' and garage-related features.\");\n",
    "gar_cols.pop();"
   ]
  },
  {
   "cell_type": "code",
   "execution_count": 19,
   "metadata": {
    "execution": {
     "iopub.execute_input": "2021-07-06T14:01:30.008084Z",
     "iopub.status.busy": "2021-07-06T14:01:30.005408Z",
     "iopub.status.idle": "2021-07-06T14:01:30.042556Z",
     "shell.execute_reply": "2021-07-06T14:01:30.041509Z",
     "shell.execute_reply.started": "2021-07-06T14:01:30.008035Z"
    }
   },
   "outputs": [],
   "source": [
    "#Locate the rows with a garage area = 0 (meaning there are no garages in such houses) \n",
    "#and replace the corresponding 'NaN' categorical values with 'NoGarage'\n",
    "train_data_imp.loc[train_data_imp.GarageArea == 0, gar_cat_cols] = \\\n",
    "train_data_imp.loc[train_data_imp.GarageArea == 0, gar_cat_cols].fillna(value = 'NoGarage')\n",
    "\n",
    "test_data_imp.loc[test_data_imp.GarageArea == 0, gar_cat_cols] = \\\n",
    "test_data_imp.loc[test_data_imp.GarageArea == 0, gar_cat_cols].fillna(value = 'NoGarage')\n",
    "\n",
    "#When there is no garage, then replace the 'NaN' values in the 'GarageYrBlt' column with 0\n",
    "train_data_imp.loc[train_data_imp.GarageArea == 0, 'GarageYrBlt'] = \\\n",
    "train_data_imp.loc[train_data_imp.GarageArea == 0, 'GarageYrBlt'].fillna(value = 0)\n",
    "\n",
    "test_data_imp.loc[test_data_imp.GarageArea == 0, 'GarageYrBlt'] = \\\n",
    "test_data_imp.loc[test_data_imp.GarageArea == 0, 'GarageYrBlt'].fillna(value = 0)"
   ]
  },
  {
   "cell_type": "code",
   "execution_count": 20,
   "metadata": {
    "execution": {
     "iopub.execute_input": "2021-07-06T14:01:30.050099Z",
     "iopub.status.busy": "2021-07-06T14:01:30.047468Z",
     "iopub.status.idle": "2021-07-06T14:01:30.071746Z",
     "shell.execute_reply": "2021-07-06T14:01:30.070704Z",
     "shell.execute_reply.started": "2021-07-06T14:01:30.050054Z"
    }
   },
   "outputs": [
    {
     "data": {
      "text/plain": [
       "Series([], dtype: int64)"
      ]
     },
     "execution_count": 20,
     "metadata": {},
     "output_type": "execute_result"
    }
   ],
   "source": [
    "#Count remaining 'NaN' values in the garage-related columns in the train set\n",
    "train_data_imp[gar_cols].isna().sum()[train_data_imp[gar_cols].isna().sum() != 0]"
   ]
  },
  {
   "cell_type": "code",
   "execution_count": 21,
   "metadata": {
    "execution": {
     "iopub.execute_input": "2021-07-06T14:01:30.078906Z",
     "iopub.status.busy": "2021-07-06T14:01:30.076368Z",
     "iopub.status.idle": "2021-07-06T14:01:30.098967Z",
     "shell.execute_reply": "2021-07-06T14:01:30.097978Z",
     "shell.execute_reply.started": "2021-07-06T14:01:30.078859Z"
    }
   },
   "outputs": [
    {
     "data": {
      "text/plain": [
       "GarageYrBlt     2\n",
       "GarageCars      1\n",
       "GarageArea      1\n",
       "GarageFinish    2\n",
       "GarageQual      2\n",
       "GarageCond      2\n",
       "dtype: int64"
      ]
     },
     "execution_count": 21,
     "metadata": {},
     "output_type": "execute_result"
    }
   ],
   "source": [
    "#Count remaining 'NaN' values in the basement-related columns in the test set\n",
    "test_data_imp[gar_cols].isna().sum()[test_data_imp[gar_cols].isna().sum() != 0]"
   ]
  },
  {
   "cell_type": "markdown",
   "metadata": {},
   "source": [
    "One can see that most of the missing values in the garage-related features have been fixed, as well.\n",
    "\n",
    "## <a id='Link-SecImp-FP'>Fireplace-, pool-, miscellaneous-, fence-, and alley-related features</a>\n",
    "\n",
    "In this subsection we will impute the rest of the missing values whose values may be deduced from the information provided in columns that don't contain missing entries.\n",
    "\n",
    "First, we will consider the fireplace-, pool-, and miscallaneous-related features. We notice that <span style=\"color:FireBrick;\">'FireplaceQu'</span>, <span style=\"color:FireBrick;\">'PoolQC'</span>, and <span style=\"color:FireBrick;\">'MiscFeature'</span> contain significant amount of missing values. These values can be imputed using the following strategy: when the number of fireplaces (<span style=\"color:FireBrick;\">'Fireplaces'</span>)/the pool area (<span style=\"color:FireBrick;\">'PoolArea'</span>)/the number of miscellaneous features (<span style=\"color:FireBrick;\">'MiscVal'</span>) equals to 0, then the corresponding 'NaN' values in the <span style=\"color:FireBrick;\">'FireplaceQu'</span>/<span style=\"color:FireBrick;\">'PoolQC'</span>/<span style=\"color:FireBrick;\">'MiscFeature'</span> column indicate that the corresponding house did not contain such a feature.  \n",
    "\n",
    "Since the imputation strategy for these 3 columns is identical, it is convenient to define a general function that will be performing such an imputation."
   ]
  },
  {
   "cell_type": "code",
   "execution_count": 22,
   "metadata": {
    "execution": {
     "iopub.execute_input": "2021-07-06T14:01:30.106100Z",
     "iopub.status.busy": "2021-07-06T14:01:30.103571Z",
     "iopub.status.idle": "2021-07-06T14:01:30.115070Z",
     "shell.execute_reply": "2021-07-06T14:01:30.113783Z",
     "shell.execute_reply.started": "2021-07-06T14:01:30.106055Z"
    }
   },
   "outputs": [],
   "source": [
    "def replace_na_values(check_column, nan_column, replace_value):\n",
    "    train_data_imp.loc[(train_data_imp[nan_column].isna()) & \n",
    "                   (train_data_imp[check_column] == 0), nan_column] = replace_value\n",
    "    test_data_imp.loc[(test_data_imp[nan_column].isna()) & \n",
    "                   (test_data_imp[check_column] == 0), nan_column] = replace_value"
   ]
  },
  {
   "cell_type": "code",
   "execution_count": 23,
   "metadata": {
    "execution": {
     "iopub.execute_input": "2021-07-06T14:01:30.123337Z",
     "iopub.status.busy": "2021-07-06T14:01:30.120266Z",
     "iopub.status.idle": "2021-07-06T14:01:30.142425Z",
     "shell.execute_reply": "2021-07-06T14:01:30.141422Z",
     "shell.execute_reply.started": "2021-07-06T14:01:30.123293Z"
    }
   },
   "outputs": [],
   "source": [
    "#Impute the fireplace-, pool-, and miscellaneous-related features\n",
    "replace_na_values('Fireplaces', 'FireplaceQu', 'NoFireplace')\n",
    "replace_na_values('PoolArea', 'PoolQC', 'NoPool')\n",
    "replace_na_values('MiscVal', 'MiscFeature', 'NoMisc')"
   ]
  },
  {
   "cell_type": "markdown",
   "metadata": {},
   "source": [
    "Now let's impute the missing values in <span style=\"color:FireBrick;\">'Fence'</span> and <span style=\"color:FireBrick;\">'Alley'</span> columns. The respective imputation strategy is even simpler than for the <span style=\"color:FireBrick;\">'FireplaceQu'</span>/<span style=\"color:FireBrick;\">'PoolQC'</span>/<span style=\"color:FireBrick;\">'MiscFeature'</span> columns. According to [this description](https://www.kaggle.com/c/home-data-for-ml-course/data), the 'NaN' values in <span style=\"color:FireBrick;\">'Fence'</span> and <span style=\"color:FireBrick;\">'Alley'</span> columns are most likely due to the absence of the corresponding feature. Therefore, we will simply replace the coresponding NaNs by 'NoFence' or 'NoAlley'."
   ]
  },
  {
   "cell_type": "code",
   "execution_count": 24,
   "metadata": {
    "execution": {
     "iopub.execute_input": "2021-07-06T14:01:30.149539Z",
     "iopub.status.busy": "2021-07-06T14:01:30.146931Z",
     "iopub.status.idle": "2021-07-06T14:01:30.163556Z",
     "shell.execute_reply": "2021-07-06T14:01:30.162292Z",
     "shell.execute_reply.started": "2021-07-06T14:01:30.149494Z"
    }
   },
   "outputs": [],
   "source": [
    "#Replace NaN 'Fence' values\n",
    "train_data_imp.loc[train_data_imp['Fence'].isna(), 'Fence'] = 'NoFence'\n",
    "test_data_imp.loc[test_data_imp['Fence'].isna(), 'Fence'] = 'NoFence'\n",
    "\n",
    "#Replace NaN 'Alley' values\n",
    "train_data_imp.loc[train_data_imp['Alley'].isna(), 'Alley'] = 'NoAlley'\n",
    "test_data_imp.loc[test_data_imp['Alley'].isna(), 'Alley'] = 'NoAlley'"
   ]
  },
  {
   "cell_type": "markdown",
   "metadata": {},
   "source": [
    "## <a id='Link-SecImp-Others'>Rest of the features</a>\n",
    "\n",
    "At this stage, none of the remaining 'NaN' values can be imputed in a clever manner. Luckily, most of the remaning columns contain only a few 'NaN' entries. The only exception is the <span style=\"color:FireBrick;\">'LotFrontage'</span> column, which contains significant number of NaNs. By taking a look at [Fig. 1](#Fig1Link) and checking the correlation between <span style=\"color:FireBrick;\">'LotFrontage'</span> and <span style=\"color:FireBrick;\">'SalePrice'</span>, we notice that the <span style=\"color:FireBrick;\">'LotFrontage'</span> feature is not strongly correlated with the <span style=\"color:FireBrick;\">'SalePrice'</span>. In addition, by checking [here](https://www.kaggle.com/c/home-data-for-ml-course/data) the feature description information, we notice that most likely the <span style=\"color:FireBrick;\">'LotArea'</span> column (by default) contains information about <span style=\"color:FireBrick;\">'LotFrontage'</span>. Therefore, we decide to remove the <span style=\"color:FireBrick;\">'LotFrontage'</span> column from our model training/prediction.train_data_imp.drop(['LotFrontage'], axis=1, inplace=True)\n",
    "test_data_imp.drop(['LotFrontage'], axis=1, inplace=True)"
   ]
  },
  {
   "cell_type": "code",
   "execution_count": 25,
   "metadata": {
    "execution": {
     "iopub.execute_input": "2021-07-06T14:01:30.171796Z",
     "iopub.status.busy": "2021-07-06T14:01:30.168945Z",
     "iopub.status.idle": "2021-07-06T14:01:30.184770Z",
     "shell.execute_reply": "2021-07-06T14:01:30.183568Z",
     "shell.execute_reply.started": "2021-07-06T14:01:30.171750Z"
    }
   },
   "outputs": [],
   "source": [
    "train_data_imp.drop(['LotFrontage'], axis=1, inplace=True)\n",
    "test_data_imp.drop(['LotFrontage'], axis=1, inplace=True)"
   ]
  },
  {
   "cell_type": "code",
   "execution_count": 26,
   "metadata": {
    "execution": {
     "iopub.execute_input": "2021-07-06T14:01:30.192556Z",
     "iopub.status.busy": "2021-07-06T14:01:30.189895Z",
     "iopub.status.idle": "2021-07-06T14:01:30.223648Z",
     "shell.execute_reply": "2021-07-06T14:01:30.222633Z",
     "shell.execute_reply.started": "2021-07-06T14:01:30.192509Z"
    }
   },
   "outputs": [
    {
     "data": {
      "text/plain": [
       "MasVnrType      8\n",
       "MasVnrArea      8\n",
       "BsmtExposure    1\n",
       "BsmtFinType2    1\n",
       "Electrical      1\n",
       "dtype: int64"
      ]
     },
     "execution_count": 26,
     "metadata": {},
     "output_type": "execute_result"
    }
   ],
   "source": [
    "#Identify columns with 'NaN' values and count NaNs (train set)\n",
    "train_data_imp.isna().sum()[train_data_imp.isna().sum() != 0]"
   ]
  },
  {
   "cell_type": "code",
   "execution_count": 27,
   "metadata": {
    "execution": {
     "iopub.execute_input": "2021-07-06T14:01:30.234861Z",
     "iopub.status.busy": "2021-07-06T14:01:30.232123Z",
     "iopub.status.idle": "2021-07-06T14:01:30.268408Z",
     "shell.execute_reply": "2021-07-06T14:01:30.267381Z",
     "shell.execute_reply.started": "2021-07-06T14:01:30.234818Z"
    }
   },
   "outputs": [
    {
     "data": {
      "text/plain": [
       "MSZoning         4\n",
       "Utilities        2\n",
       "Exterior1st      1\n",
       "Exterior2nd      1\n",
       "MasVnrType      16\n",
       "MasVnrArea      15\n",
       "BsmtQual         3\n",
       "BsmtCond         4\n",
       "BsmtExposure     3\n",
       "BsmtFinType1     1\n",
       "BsmtFinSF1       1\n",
       "BsmtFinType2     1\n",
       "BsmtFinSF2       1\n",
       "BsmtUnfSF        1\n",
       "TotalBsmtSF      1\n",
       "BsmtFullBath     2\n",
       "BsmtHalfBath     2\n",
       "KitchenQual      1\n",
       "Functional       2\n",
       "GarageYrBlt      2\n",
       "GarageFinish     2\n",
       "GarageCars       1\n",
       "GarageArea       1\n",
       "GarageQual       2\n",
       "GarageCond       2\n",
       "PoolQC           3\n",
       "MiscFeature      1\n",
       "SaleType         1\n",
       "dtype: int64"
      ]
     },
     "execution_count": 27,
     "metadata": {},
     "output_type": "execute_result"
    }
   ],
   "source": [
    "test_data_imp.isna().sum()[test_data_imp.isna().sum() != 0]"
   ]
  },
  {
   "cell_type": "markdown",
   "metadata": {},
   "source": [
    "Now we can see that all the remaining columns with 'NaN' values contain only a few NaNs, which can be safely imputed using one of the standard imputers.\n",
    "\n",
    "# <a id='Link-SecOrdPrep'>Preparation of ordinal categorical data for label encoding</a>\n",
    "\n",
    "In this section, we will prepare our categorical columns for model training/prediction. We note that our dataset contains 2 types of categorical columns:\n",
    "\n",
    "* Ordinal (when the column has a clear ordering of categories) \n",
    "* Nominal (when the column has no clear ordering of categories). \n",
    "\n",
    "We will use the ordinal encoding strategy for ordinal columns and the one-hot encoding strategy for nominal columns. Check out [this](https://www.kaggle.com/alexisbcook/missing-values) and [this](https://www.kaggle.com/alexisbcook/categorical-variables) Kaggle tutorials for more details.\n",
    "\n",
    "The categories of ordinal data need to be properly ordered, so that the ordinal encoder assigns them the proper numerical values. Below we prepare our data for ordinal and one-hot encodings using [this](https://www.kaggle.com/c/home-data-for-ml-course/data) data description information. "
   ]
  },
  {
   "cell_type": "code",
   "execution_count": 28,
   "metadata": {
    "execution": {
     "iopub.execute_input": "2021-07-06T14:01:30.276227Z",
     "iopub.status.busy": "2021-07-06T14:01:30.273634Z",
     "iopub.status.idle": "2021-07-06T14:01:30.290488Z",
     "shell.execute_reply": "2021-07-06T14:01:30.289354Z",
     "shell.execute_reply.started": "2021-07-06T14:01:30.276180Z"
    }
   },
   "outputs": [
    {
     "name": "stdout",
     "output_type": "stream",
     "text": [
      "The number of ordinal categorical columns: 21.\n",
      "The number of nominal categorical columns: 22.\n",
      "The total expected number of categorical columns: 43.\n"
     ]
    }
   ],
   "source": [
    "#Create a list of ordinal categorical features\n",
    "cat_cols_ordinal = ['LotShape', 'LandContour', 'Utilities', 'LandSlope', \n",
    "                    'ExterQual', 'ExterCond', 'BsmtCond', 'BsmtExposure',\n",
    "                    'BsmtFinType1', 'BsmtFinType2', 'HeatingQC', 'CentralAir',\n",
    "                    'KitchenQual', 'Functional', 'FireplaceQu', 'GarageFinish', \n",
    "                    'GarageQual', 'GarageCond', 'PavedDrive', 'PoolQC', 'BsmtQual']\n",
    "\n",
    "#Create a list of nominal categorical features\n",
    "cat_cols_onehot = [x for x in cat_cols if x not in cat_cols_ordinal]\n",
    "\n",
    "print(f'The number of ordinal categorical columns: {len(cat_cols_ordinal)}.')\n",
    "print(f'The number of nominal categorical columns: {len(cat_cols_onehot)}.')\n",
    "print(f'The total expected number of categorical columns: {len(cat_cols)}.')"
   ]
  },
  {
   "cell_type": "code",
   "execution_count": 29,
   "metadata": {
    "execution": {
     "iopub.execute_input": "2021-07-06T14:01:30.298577Z",
     "iopub.status.busy": "2021-07-06T14:01:30.295886Z",
     "iopub.status.idle": "2021-07-06T14:01:30.324095Z",
     "shell.execute_reply": "2021-07-06T14:01:30.323034Z",
     "shell.execute_reply.started": "2021-07-06T14:01:30.298532Z"
    }
   },
   "outputs": [
    {
     "data": {
      "text/plain": [
       "{'LotShape': ['Reg', 'IR1', 'IR2', 'IR3'],\n",
       " 'LandContour': ['Lvl', 'Bnk', 'Low', 'HLS'],\n",
       " 'Utilities': ['AllPub', 'NoSeWa'],\n",
       " 'LandSlope': ['Gtl', 'Mod', 'Sev'],\n",
       " 'ExterQual': ['Gd', 'TA', 'Ex', 'Fa'],\n",
       " 'ExterCond': ['TA', 'Gd', 'Fa', 'Po', 'Ex'],\n",
       " 'BsmtCond': ['TA', 'Gd', 'NoBsmt', 'Fa', 'Po'],\n",
       " 'BsmtExposure': ['No', 'Gd', 'Mn', 'Av', 'NoBsmt', nan],\n",
       " 'BsmtFinType1': ['GLQ', 'ALQ', 'Unf', 'Rec', 'BLQ', 'NoBsmt', 'LwQ'],\n",
       " 'BsmtFinType2': ['Unf', 'BLQ', 'NoBsmt', 'ALQ', 'Rec', 'LwQ', 'GLQ', nan],\n",
       " 'HeatingQC': ['Ex', 'Gd', 'TA', 'Fa', 'Po'],\n",
       " 'CentralAir': ['Y', 'N'],\n",
       " 'KitchenQual': ['Gd', 'TA', 'Ex', 'Fa'],\n",
       " 'Functional': ['Typ', 'Min1', 'Maj1', 'Min2', 'Mod', 'Maj2', 'Sev'],\n",
       " 'FireplaceQu': ['NoFireplace', 'TA', 'Gd', 'Fa', 'Ex', 'Po'],\n",
       " 'GarageFinish': ['RFn', 'Unf', 'Fin', 'NoGarage'],\n",
       " 'GarageQual': ['TA', 'Fa', 'Gd', 'NoGarage', 'Ex', 'Po'],\n",
       " 'GarageCond': ['TA', 'Fa', 'NoGarage', 'Gd', 'Po', 'Ex'],\n",
       " 'PavedDrive': ['Y', 'N', 'P'],\n",
       " 'PoolQC': ['NoPool', 'Ex', 'Fa', 'Gd'],\n",
       " 'BsmtQual': ['Gd', 'TA', 'Ex', 'NoBsmt', 'Fa']}"
      ]
     },
     "execution_count": 29,
     "metadata": {},
     "output_type": "execute_result"
    }
   ],
   "source": [
    "#Create a dictionary with ordinal categorical columns as keys \n",
    "#and corresponding categories as values\n",
    "ordinal_cols_dict = {}\n",
    "for col in cat_cols_ordinal:\n",
    "    ordinal_cols_dict[col] = train_data_imp[col].unique().tolist()\n",
    "ordinal_cols_dict"
   ]
  },
  {
   "cell_type": "code",
   "execution_count": 30,
   "metadata": {
    "execution": {
     "iopub.execute_input": "2021-07-06T14:01:30.331594Z",
     "iopub.status.busy": "2021-07-06T14:01:30.328984Z",
     "iopub.status.idle": "2021-07-06T14:01:30.366281Z",
     "shell.execute_reply": "2021-07-06T14:01:30.365240Z",
     "shell.execute_reply.started": "2021-07-06T14:01:30.331550Z"
    }
   },
   "outputs": [
    {
     "data": {
      "text/plain": [
       "{'LotShape': ['IR3', 'IR2', 'IR1', 'Reg'],\n",
       " 'LandContour': ['Low', 'HLS', 'Bnk', 'Lvl'],\n",
       " 'Utilities': ['NoSeWa', 'AllPub'],\n",
       " 'LandSlope': ['Sev', 'Mod', 'Gtl'],\n",
       " 'ExterQual': ['Po', 'Fa', 'TA', 'Gd', 'Ex'],\n",
       " 'ExterCond': ['Po', 'Fa', 'TA', 'Gd', 'Ex'],\n",
       " 'BsmtCond': ['NoBsmt', 'Po', 'Fa', 'TA', 'Gd', 'Ex'],\n",
       " 'BsmtExposure': ['NoBsmt', 'No', 'Mn', 'Av', 'Gd'],\n",
       " 'BsmtFinType1': ['NoBsmt', 'Unf', 'LwQ', 'Rec', 'BLQ', 'ALQ', 'GLQ'],\n",
       " 'BsmtFinType2': ['NoBsmt', 'Unf', 'LwQ', 'Rec', 'BLQ', 'ALQ', 'GLQ'],\n",
       " 'HeatingQC': ['Po', 'Fa', 'TA', 'Gd', 'Ex'],\n",
       " 'CentralAir': ['N', 'Y'],\n",
       " 'KitchenQual': ['Po', 'Fa', 'TA', 'Gd', 'Ex'],\n",
       " 'Functional': ['Sev', 'Maj2', 'Maj1', 'Mod', 'Min2', 'Min1', 'Typ'],\n",
       " 'FireplaceQu': ['NoFireplace', 'Po', 'Fa', 'TA', 'Gd', 'Ex'],\n",
       " 'GarageFinish': ['NoGarage', 'Unf', 'RFn', 'Fin'],\n",
       " 'GarageQual': ['NoGarage', 'Po', 'Fa', 'TA', 'Gd', 'Ex'],\n",
       " 'GarageCond': ['NoGarage', 'Po', 'Fa', 'TA', 'Gd', 'Ex'],\n",
       " 'PavedDrive': ['N', 'P', 'Y'],\n",
       " 'PoolQC': ['NoPool', 'Po', 'Fa', 'TA', 'Gd', 'Ex'],\n",
       " 'BsmtQual': ['NoBsmt', 'Po', 'Fa', 'TA', 'Gd', 'Ex']}"
      ]
     },
     "execution_count": 30,
     "metadata": {},
     "output_type": "execute_result"
    }
   ],
   "source": [
    "#Perform a proper orgering of the corresponding categories\n",
    "ordinal_cols_dict['LotShape'] = ['IR3', 'IR2', 'IR1', 'Reg']\n",
    "ordinal_cols_dict['LandContour'] = ['Low', 'HLS', 'Bnk', 'Lvl']\n",
    "ordinal_cols_dict['Utilities'] = ['NoSeWa', 'AllPub']\n",
    "ordinal_cols_dict['LandSlope'] = ['Sev', 'Mod', 'Gtl']\n",
    "ordinal_cols_dict['ExterQual'] = ['Po', 'Fa', 'TA', 'Gd', 'Ex']\n",
    "ordinal_cols_dict['ExterCond'] = ['Po', 'Fa', 'TA', 'Gd', 'Ex']\n",
    "ordinal_cols_dict['BsmtCond'] = ['NoBsmt', 'Po', 'Fa', 'TA', 'Gd', 'Ex']\n",
    "ordinal_cols_dict['BsmtExposure'] = ['NoBsmt', 'No', 'Mn', 'Av', 'Gd']\n",
    "ordinal_cols_dict['BsmtFinType1'] = ['NoBsmt', 'Unf', 'LwQ', 'Rec', 'BLQ', 'ALQ', 'GLQ']\n",
    "ordinal_cols_dict['BsmtFinType2'] = ['NoBsmt', 'Unf', 'LwQ', 'Rec', 'BLQ', 'ALQ', 'GLQ']\n",
    "ordinal_cols_dict['HeatingQC'] = ['Po', 'Fa', 'TA', 'Gd', 'Ex']\n",
    "ordinal_cols_dict['CentralAir'] = ['N', 'Y']\n",
    "ordinal_cols_dict['KitchenQual'] = ['Po', 'Fa', 'TA', 'Gd', 'Ex']\n",
    "ordinal_cols_dict['Functional'] = ['Sev', 'Maj2', 'Maj1', 'Mod', 'Min2', 'Min1', 'Typ']\n",
    "ordinal_cols_dict['FireplaceQu'] = ['NoFireplace', 'Po', 'Fa', 'TA', 'Gd', 'Ex']\n",
    "ordinal_cols_dict['GarageFinish'] = ['NoGarage', 'Unf', 'RFn', 'Fin']\n",
    "ordinal_cols_dict['GarageQual'] = ['NoGarage', 'Po', 'Fa', 'TA', 'Gd', 'Ex']\n",
    "ordinal_cols_dict['GarageCond'] = ['NoGarage', 'Po', 'Fa', 'TA', 'Gd', 'Ex']\n",
    "ordinal_cols_dict['PavedDrive'] = ['N', 'P', 'Y']\n",
    "ordinal_cols_dict['PoolQC'] = ['NoPool','Po', 'Fa', 'TA', 'Gd', 'Ex']\n",
    "ordinal_cols_dict['BsmtQual'] = ['NoBsmt', 'Po', 'Fa', 'TA', 'Gd', 'Ex']\n",
    "ordinal_cols_dict"
   ]
  },
  {
   "cell_type": "code",
   "execution_count": 31,
   "metadata": {
    "execution": {
     "iopub.execute_input": "2021-07-06T14:01:30.373399Z",
     "iopub.status.busy": "2021-07-06T14:01:30.370828Z",
     "iopub.status.idle": "2021-07-06T14:01:30.390260Z",
     "shell.execute_reply": "2021-07-06T14:01:30.389036Z",
     "shell.execute_reply.started": "2021-07-06T14:01:30.373352Z"
    }
   },
   "outputs": [
    {
     "data": {
      "text/plain": [
       "[['IR3', 'IR2', 'IR1', 'Reg'],\n",
       " ['Low', 'HLS', 'Bnk', 'Lvl'],\n",
       " ['NoSeWa', 'AllPub'],\n",
       " ['Sev', 'Mod', 'Gtl'],\n",
       " ['Po', 'Fa', 'TA', 'Gd', 'Ex'],\n",
       " ['Po', 'Fa', 'TA', 'Gd', 'Ex'],\n",
       " ['NoBsmt', 'Po', 'Fa', 'TA', 'Gd', 'Ex'],\n",
       " ['NoBsmt', 'No', 'Mn', 'Av', 'Gd'],\n",
       " ['NoBsmt', 'Unf', 'LwQ', 'Rec', 'BLQ', 'ALQ', 'GLQ'],\n",
       " ['NoBsmt', 'Unf', 'LwQ', 'Rec', 'BLQ', 'ALQ', 'GLQ'],\n",
       " ['Po', 'Fa', 'TA', 'Gd', 'Ex'],\n",
       " ['N', 'Y'],\n",
       " ['Po', 'Fa', 'TA', 'Gd', 'Ex'],\n",
       " ['Sev', 'Maj2', 'Maj1', 'Mod', 'Min2', 'Min1', 'Typ'],\n",
       " ['NoFireplace', 'Po', 'Fa', 'TA', 'Gd', 'Ex'],\n",
       " ['NoGarage', 'Unf', 'RFn', 'Fin'],\n",
       " ['NoGarage', 'Po', 'Fa', 'TA', 'Gd', 'Ex'],\n",
       " ['NoGarage', 'Po', 'Fa', 'TA', 'Gd', 'Ex'],\n",
       " ['N', 'P', 'Y'],\n",
       " ['NoPool', 'Po', 'Fa', 'TA', 'Gd', 'Ex'],\n",
       " ['NoBsmt', 'Po', 'Fa', 'TA', 'Gd', 'Ex']]"
      ]
     },
     "execution_count": 31,
     "metadata": {},
     "output_type": "execute_result"
    }
   ],
   "source": [
    "#Create a list of ordered ordinal categories suitable for model-training in the subsequent section\n",
    "my_categories = list(ordinal_cols_dict.values())\n",
    "my_categories"
   ]
  },
  {
   "cell_type": "code",
   "execution_count": 32,
   "metadata": {
    "execution": {
     "iopub.execute_input": "2021-07-06T14:01:30.398081Z",
     "iopub.status.busy": "2021-07-06T14:01:30.395503Z",
     "iopub.status.idle": "2021-07-06T14:01:30.411682Z",
     "shell.execute_reply": "2021-07-06T14:01:30.410499Z",
     "shell.execute_reply.started": "2021-07-06T14:01:30.398035Z"
    }
   },
   "outputs": [],
   "source": [
    "#Train dataset that is ready for model training/prediction\n",
    "y_train = train_data_imp.SalePrice\n",
    "train_data_imp.drop(['SalePrice'], axis=1, inplace=True)\n",
    "X_train_imp = train_data_imp.copy()\n",
    "\n",
    "#Test dataset that is ready for model training/prediction\n",
    "X_test_imp = test_data_imp.copy()"
   ]
  },
  {
   "cell_type": "markdown",
   "metadata": {},
   "source": [
    "# <a id='Link-SecModel'>Model training, selection, and predictions</a>\n",
    "\n",
    "## <a id='Link-SecModel-DataPrepr'>Data preprocessing</a>\n",
    "\n",
    "Before we train our model and make predictions, we will first preprocess our categorical and numerical columns using the ColumnTransformer class of the `sklearn.compose` module and prepare the data for fitting a machine learning model. (Check out [this turotial](https://www.kaggle.com/alexisbcook/pipelines) to learn more about keeping your data preprocessing and modeling code organized) "
   ]
  },
  {
   "cell_type": "code",
   "execution_count": 33,
   "metadata": {
    "execution": {
     "iopub.execute_input": "2021-07-06T14:01:30.419855Z",
     "iopub.status.busy": "2021-07-06T14:01:30.417268Z",
     "iopub.status.idle": "2021-07-06T14:01:30.459539Z",
     "shell.execute_reply": "2021-07-06T14:01:30.458408Z",
     "shell.execute_reply.started": "2021-07-06T14:01:30.419810Z"
    }
   },
   "outputs": [],
   "source": [
    "#Load required packages\n",
    "from sklearn.pipeline import Pipeline\n",
    "from sklearn.impute import SimpleImputer\n",
    "from sklearn.preprocessing import OrdinalEncoder, OneHotEncoder, StandardScaler\n",
    "from sklearn.compose import ColumnTransformer\n",
    "\n",
    "#Numerical and categorical columns transformation pipelines\n",
    "num_transformer = Pipeline(steps=[\n",
    "    ('num_imputer', SimpleImputer(strategy='median'))\n",
    "])\n",
    "\n",
    "cat_transformer_ordinal = Pipeline(steps=[\n",
    "    ('cat_ord_imputer', SimpleImputer(strategy='most_frequent')),\n",
    "    ('ordinal_transf', OrdinalEncoder(categories=my_categories,\n",
    "                                      handle_unknown='use_encoded_value', \n",
    "                                      unknown_value=np.nan))\n",
    "])\n",
    "\n",
    "cat_transformer_onehot = Pipeline(steps=[\n",
    "    ('cat_nom_imputer', SimpleImputer(strategy='most_frequent')),\n",
    "    ('onehot_transf', OneHotEncoder(handle_unknown='ignore'))\n",
    "])\n",
    "\n",
    "#Bundle preprocessing for numerical and categorical data\n",
    "preprocessor = ColumnTransformer(\n",
    "    transformers=[\n",
    "        ('num_simple', num_transformer, num_cols_no_SPLF),\n",
    "        ('cat_ordinal', cat_transformer_ordinal, cat_cols_ordinal),\n",
    "        ('cat_onehot', cat_transformer_onehot, cat_cols_onehot)\n",
    "])"
   ]
  },
  {
   "cell_type": "markdown",
   "metadata": {},
   "source": [
    "## <a id='Link-SecModel-Training'>Model training</a>\n",
    "\n",
    "In this subsection, we will fit different machine learning algorithms with our preprocessed data and choose the optimal parameters for each model. We will consider the following models:\n",
    "* Linear regression\n",
    "* Decision tree regressor\n",
    "* Random forest regressor\n",
    "* Gradient boosting regressor\n",
    "\n",
    "### <a id='Link-SecModel-Training-LR'>Linear regression</a>\n"
   ]
  },
  {
   "cell_type": "code",
   "execution_count": 34,
   "metadata": {
    "execution": {
     "iopub.execute_input": "2021-07-06T14:01:30.467090Z",
     "iopub.status.busy": "2021-07-06T14:01:30.464539Z",
     "iopub.status.idle": "2021-07-06T14:01:31.422874Z",
     "shell.execute_reply": "2021-07-06T14:01:31.421657Z",
     "shell.execute_reply.started": "2021-07-06T14:01:30.467043Z"
    }
   },
   "outputs": [
    {
     "name": "stdout",
     "output_type": "stream",
     "text": [
      "MAE score for the Linear Regression: 19928.773998552893\n"
     ]
    }
   ],
   "source": [
    "from sklearn.linear_model import LinearRegression\n",
    "from sklearn.model_selection import cross_val_score\n",
    "from sklearn.metrics import mean_absolute_error\n",
    "\n",
    "model_LR = LinearRegression()\n",
    "\n",
    "#Bundle preprocessing and modeling code in a pipeline\n",
    "pipeline_LR = Pipeline(steps=[('preprocessor', preprocessor), \n",
    "                               ('LR_model', model_LR)])\n",
    "\n",
    "#MAE score using cross validation\n",
    "scores = -1 * cross_val_score(pipeline_LR, X_train_imp, y_train,\n",
    "                              cv=5, scoring='neg_mean_absolute_error')\n",
    "\n",
    "print('MAE score for the Linear Regression:', np.mean(scores))"
   ]
  },
  {
   "cell_type": "markdown",
   "metadata": {},
   "source": [
    "### <a id='Link-SecModel-Training-DTR'>Decision tree regressor</a>"
   ]
  },
  {
   "cell_type": "code",
   "execution_count": 35,
   "metadata": {
    "execution": {
     "iopub.execute_input": "2021-07-06T14:01:31.432844Z",
     "iopub.status.busy": "2021-07-06T14:01:31.428811Z",
     "iopub.status.idle": "2021-07-06T14:01:46.928091Z",
     "shell.execute_reply": "2021-07-06T14:01:46.926904Z",
     "shell.execute_reply.started": "2021-07-06T14:01:31.432790Z"
    }
   },
   "outputs": [
    {
     "name": "stdout",
     "output_type": "stream",
     "text": [
      "Best parameters for the Decision Tree Regressor:\n",
      "DTR_model__max_depth: 20\n",
      "DTR_model__min_samples_leaf: 10\n",
      "DTR_model__min_samples_split: 2\n",
      "DTR_model__random_state: 10\n",
      "\n",
      "Best MAE score for the Decision Tree Regressor:  23758.09018205948\n"
     ]
    }
   ],
   "source": [
    "from sklearn.model_selection import GridSearchCV\n",
    "from sklearn.tree import DecisionTreeRegressor\n",
    "\n",
    "model_DTR = DecisionTreeRegressor()\n",
    "\n",
    "#Bundle preprocessing and modeling code in a pipeline\n",
    "pipeline_DTR = Pipeline(steps=[('preprocessor', preprocessor), \n",
    "                               ('DTR_model', model_DTR)])\n",
    "\n",
    "#Hyperparameter tuning implementation\n",
    "param_grid_DTR = {\n",
    "    'DTR_model__max_depth': [10, 20, 40], \n",
    "    'DTR_model__min_samples_leaf': [5, 10, 20], \n",
    "    'DTR_model__min_samples_split': [2, 5, 10],\n",
    "    'DTR_model__random_state': [10],\n",
    "}\n",
    "\n",
    "searchCV_DTR = GridSearchCV(pipeline_DTR, param_grid=param_grid_DTR,\n",
    "                            cv=5, scoring='neg_mean_absolute_error', n_jobs=-1)\n",
    "\n",
    "searchCV_DTR.fit(X_train_imp, y_train)\n",
    "print('Best parameters for the Decision Tree Regressor:')\n",
    "for parameter in searchCV_DTR.best_params_:\n",
    "    print (f'{parameter}: {searchCV_DTR.best_params_[parameter]}')\n",
    "      \n",
    "print('\\nBest MAE score for the Decision Tree Regressor: ',\n",
    "      searchCV_DTR.best_score_*(-1))"
   ]
  },
  {
   "cell_type": "markdown",
   "metadata": {},
   "source": [
    "### <a id='Link-SecModel-Training-RFR'>Random forest regressor</a>"
   ]
  },
  {
   "cell_type": "code",
   "execution_count": 36,
   "metadata": {
    "execution": {
     "iopub.execute_input": "2021-07-06T14:01:46.930528Z",
     "iopub.status.busy": "2021-07-06T14:01:46.930041Z",
     "iopub.status.idle": "2021-07-06T14:02:54.578567Z",
     "shell.execute_reply": "2021-07-06T14:02:54.577482Z",
     "shell.execute_reply.started": "2021-07-06T14:01:46.930481Z"
    }
   },
   "outputs": [
    {
     "name": "stdout",
     "output_type": "stream",
     "text": [
      "Best parameters for the Random Forest Regressor:\n",
      "RFR_model__max_depth: 30\n",
      "RFR_model__min_samples_split: 2\n",
      "RFR_model__n_estimators: 80\n",
      "RFR_model__random_state: 10\n",
      "\n",
      "Best MAE score for the Random Forest Regressor:  17190.075368150683\n"
     ]
    }
   ],
   "source": [
    "from sklearn.ensemble import RandomForestRegressor\n",
    "\n",
    "model_RFR = RandomForestRegressor()\n",
    "\n",
    "#Bundle preprocessing and modeling code in a pipeline\n",
    "pipeline_RFR = Pipeline(steps=[('preprocessor', preprocessor), \n",
    "                               ('RFR_model', model_RFR)])\n",
    "\n",
    "#Hyperparameter tuning implementation\n",
    "param_grid_RFR = {\n",
    "    'RFR_model__n_estimators': [80, 100], \n",
    "    'RFR_model__max_depth': [15, 30],\n",
    "    'RFR_model__min_samples_split': [2, 5], \n",
    "    'RFR_model__random_state': [10],\n",
    "}\n",
    "\n",
    "searchCV_RFR = GridSearchCV(pipeline_RFR, param_grid=param_grid_RFR,\n",
    "                            cv=5, scoring='neg_mean_absolute_error', n_jobs=-1)\n",
    "\n",
    "searchCV_RFR.fit(X_train_imp, y_train)\n",
    "\n",
    "print('Best parameters for the Random Forest Regressor:')\n",
    "for parameter in searchCV_RFR.best_params_:\n",
    "    print (f'{parameter}: {searchCV_RFR.best_params_[parameter]}')\n",
    "    \n",
    "print('\\nBest MAE score for the Random Forest Regressor: ',\n",
    "      searchCV_RFR.best_score_*(-1))"
   ]
  },
  {
   "cell_type": "markdown",
   "metadata": {},
   "source": [
    "### <a id='Link-SecModel-Training-XGBR'>Gradient boosting regressor</a>"
   ]
  },
  {
   "cell_type": "code",
   "execution_count": 37,
   "metadata": {
    "execution": {
     "iopub.execute_input": "2021-07-06T14:02:54.580630Z",
     "iopub.status.busy": "2021-07-06T14:02:54.580225Z",
     "iopub.status.idle": "2021-07-06T14:03:45.895016Z",
     "shell.execute_reply": "2021-07-06T14:03:45.893947Z",
     "shell.execute_reply.started": "2021-07-06T14:02:54.580585Z"
    }
   },
   "outputs": [
    {
     "name": "stdout",
     "output_type": "stream",
     "text": [
      "Best parameters for the XGBoosting Regressor:\n",
      "XGBR_model__colsample_bytree: 0.5\n",
      "XGBR_model__learning_rate: 0.07\n",
      "XGBR_model__max_depth: 2\n",
      "XGBR_model__n_estimators: 1500\n",
      "XGBR_model__reg_alpha: 1\n",
      "XGBR_model__reg_lambda: 0.01\n",
      "XGBR_model__subsample: 0.95\n",
      "Best MAE score for the XGBoosting Regressor: 14974.323729130996\n"
     ]
    }
   ],
   "source": [
    "from xgboost import XGBRegressor\n",
    "\n",
    "model_XGBR = XGBRegressor()\n",
    "\n",
    "#Bundle preprocessing and modeling code in a pipeline\n",
    "pipeline_XGBR = Pipeline(steps=[('preprocessor', preprocessor),\n",
    "                                ('XGBR_model', model_XGBR)])\n",
    "\n",
    "#Hyperparameter tuning implementation\n",
    "#To speed up this block, non-optimal parameters are commented out\n",
    "param_grid = {\n",
    "    'XGBR_model__n_estimators': [1500], #[1000, 1250, 1500]\n",
    "    'XGBR_model__learning_rate': [0.07], #[0.07] [0.065, 0.07, 0.075],\n",
    "    'XGBR_model__max_depth': [2], #[2,5,10]\n",
    "    'XGBR_model__reg_alpha': [1], #[0, 0.5, 1, 5]\n",
    "    'XGBR_model__reg_lambda': [0.01], #[0, 0.05, 0.1, 1]\n",
    "    'XGBR_model__subsample': [0.95], #[0.5, 0.75, 0.9]\n",
    "    'XGBR_model__colsample_bytree': [0.5]\n",
    "}\n",
    "\n",
    "searchCV_XGBR = GridSearchCV(pipeline_XGBR, param_grid=param_grid,\n",
    "                             cv=5, scoring='neg_mean_absolute_error', n_jobs=-1)\n",
    "\n",
    "searchCV_XGBR.fit(X_train_imp, y_train)\n",
    "print('Best parameters for the XGBoosting Regressor:')\n",
    "for parameter in searchCV_XGBR.best_params_:\n",
    "    print (f'{parameter}: {searchCV_XGBR.best_params_[parameter]}')\n",
    "    \n",
    "print('Best MAE score for the XGBoosting Regressor:',\n",
    "      searchCV_XGBR.best_score_*(-1))"
   ]
  },
  {
   "cell_type": "markdown",
   "metadata": {},
   "source": [
    "## <a id='Link-SecModel-Selection'>Model selection and predictions</a>\n",
    "\n",
    "After testing four different regression models on cross validation data, we provide below a table that provides a summarizy og the mean absolute error scores achieved by these models. It is clear that the XGBoosting regressor performs the best on the cross validation data, and thus it will be employed for generating predictions for the test dataset. "
   ]
  },
  {
   "cell_type": "markdown",
   "metadata": {},
   "source": [
    "| Model  | MAE | \n",
    "| --- | --- | \n",
    "| Linear Regression | 19929 |\n",
    "| Decision Tree Regressor | 23758 | \n",
    "| Random Forest Regressor | 17190 | \n",
    "| Gradient Boosting Regressor | 14827 | "
   ]
  },
  {
   "cell_type": "code",
   "execution_count": 38,
   "metadata": {
    "execution": {
     "iopub.execute_input": "2021-07-06T14:03:45.897217Z",
     "iopub.status.busy": "2021-07-06T14:03:45.896726Z",
     "iopub.status.idle": "2021-07-06T14:03:46.527543Z",
     "shell.execute_reply": "2021-07-06T14:03:46.526261Z",
     "shell.execute_reply.started": "2021-07-06T14:03:45.897152Z"
    }
   },
   "outputs": [],
   "source": [
    "pipeline_final = searchCV_XGBR.best_estimator_\n",
    "predictions = pipeline_final.predict(X_test_imp)"
   ]
  },
  {
   "cell_type": "markdown",
   "metadata": {},
   "source": [
    "# <a id='Link-SecSubm'>Submission</a> \n",
    "\n",
    "Finally, we prepare our predictions for a submition to the [Housing Prices Competition for Kaggle Learn Users](https://www.kaggle.com/c/home-data-for-ml-course). 🥳🎉"
   ]
  },
  {
   "cell_type": "code",
   "execution_count": 39,
   "metadata": {
    "execution": {
     "iopub.execute_input": "2021-07-06T14:03:46.529658Z",
     "iopub.status.busy": "2021-07-06T14:03:46.529123Z",
     "iopub.status.idle": "2021-07-06T14:03:46.846221Z",
     "shell.execute_reply": "2021-07-06T14:03:46.844870Z",
     "shell.execute_reply.started": "2021-07-06T14:03:46.529614Z"
    }
   },
   "outputs": [
    {
     "name": "stdout",
     "output_type": "stream",
     "text": [
      "Your submission was successfully saved!\n"
     ]
    }
   ],
   "source": [
    "#Generate output\n",
    "output = pd.DataFrame({'Id': X_test_imp.index, \n",
    "                       'SalePrice': predictions})\n",
    "output.to_csv('submission.csv', index=False)\n",
    "print('Your submission was successfully saved!')"
   ]
  },
  {
   "cell_type": "markdown",
   "metadata": {},
   "source": [
    "This notebook is also available on [Kaggle](https://www.kaggle.com/alexkoshchii/top-2-notebook-for-housing-prices-dataset)"
   ]
  },
  {
   "cell_type": "code",
   "execution_count": null,
   "metadata": {},
   "outputs": [],
   "source": []
  }
 ],
 "metadata": {
  "kernelspec": {
   "display_name": "Python 3",
   "language": "python",
   "name": "python3"
  },
  "language_info": {
   "codemirror_mode": {
    "name": "ipython",
    "version": 3
   },
   "file_extension": ".py",
   "mimetype": "text/x-python",
   "name": "python",
   "nbconvert_exporter": "python",
   "pygments_lexer": "ipython3",
   "version": "3.8.10"
  }
 },
 "nbformat": 4,
 "nbformat_minor": 4
}
